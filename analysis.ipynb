{
    "cells": [
        {
            "cell_type": "markdown",
            "metadata": {},
            "source": [
                "# **Swiss Train Station Analysis**\n",
                "\n",
                "This notebook demonstrates a comprehensive analysis of Swiss train station data, which contains:\n",
                "\n",
                "- **Bahnhof**: Station name\n",
                "- **Kanton**: Swiss canton/province\n",
                "- **DTV**: Average daily traffic\n",
                "- **DWV**: Average workday traffic (Mon-Fri)\n",
                "- **DNWV**: Average non-workday traffic (Sat, Sun, Holidays)\n",
                "- **EVU**: Train operator\n",
                "- **lon, lat**: Coordinates\n",
                "\n",
                "We will walk through:\n",
                "1. **Data Loading & Cleaning**\n",
                "2. **Descriptive Statistics & Visualizations** (including how to handle skewed data)\n",
                "3. **Chi-Squared Test** (Kanton vs. EVU)\n",
                "4. **One-Way ANOVA** (DTV by Kanton)\n",
                "5. **Correlation Analysis** (DTV, DWV, DNWV)\n",
                "\n",
                "We also demonstrate how to handle **outliers** and **log-scale** transformations, given the highly skewed nature of traffic data.\n",
                "\n",
                "## **Topic**: *Differences in Daily Traffic (DTV) Across Cantons*\n",
                "We'll see if certain cantons have significantly different average daily traffic, and whether traffic is related to train operator.\n"
            ]
        },
        {
            "cell_type": "code",
            "execution_count": 20,
            "metadata": {
                "collapsed": false
            },
            "outputs": [],
            "source": [
                "# Standard library imports\n",
                "import pandas as pd\n",
                "import numpy as np\n",
                "\n",
                "from scipy.stats import chi2_contingency, f_oneway, pearsonr, levene, shapiro\n",
                "\n",
                "# Visualization imports\n",
                "import matplotlib.pyplot as plt\n",
                "import seaborn as sns\n",
                "\n",
                "# Optional: for Jupyter inline plotting\n",
                "%matplotlib inline\n"
            ]
        },
        {
            "cell_type": "markdown",
            "metadata": {},
            "source": [
                "## 1. Data Loading & Cleaning\n",
                "\n",
                "Replace `'stations.csv'` below with your actual CSV file if needed.\n",
                "We assume your CSV has columns:\n",
                "```\n",
                "Code,UIC,Bahnhof,Kanton,ISB_GI,Jahr,DTV,DWV,DNWV,EVU,lon,lat\n",
                "```\n",
                "and ~3,471 rows. Here we load the data into a pandas DataFrame.\n"
            ]
        },
        {
            "cell_type": "code",
            "execution_count": 21,
            "metadata": {},
            "outputs": [
                {
                    "name": "stdout",
                    "output_type": "stream",
                    "text": [
                        "DataFrame Shape: (3470, 12)\n"
                    ]
                },
                {
                    "data": {
                        "text/html": [
                            "<div>\n",
                            "<style scoped>\n",
                            "    .dataframe tbody tr th:only-of-type {\n",
                            "        vertical-align: middle;\n",
                            "    }\n",
                            "\n",
                            "    .dataframe tbody tr th {\n",
                            "        vertical-align: top;\n",
                            "    }\n",
                            "\n",
                            "    .dataframe thead th {\n",
                            "        text-align: right;\n",
                            "    }\n",
                            "</style>\n",
                            "<table border=\"1\" class=\"dataframe\">\n",
                            "  <thead>\n",
                            "    <tr style=\"text-align: right;\">\n",
                            "      <th></th>\n",
                            "      <th>Code</th>\n",
                            "      <th>UIC</th>\n",
                            "      <th>Bahnhof</th>\n",
                            "      <th>Kanton</th>\n",
                            "      <th>ISB_GI</th>\n",
                            "      <th>Jahr</th>\n",
                            "      <th>DTV</th>\n",
                            "      <th>DWV</th>\n",
                            "      <th>DNWV</th>\n",
                            "      <th>EVU</th>\n",
                            "      <th>lon</th>\n",
                            "      <th>lat</th>\n",
                            "    </tr>\n",
                            "  </thead>\n",
                            "  <tbody>\n",
                            "    <tr>\n",
                            "      <th>0</th>\n",
                            "      <td>AAT</td>\n",
                            "      <td>8503124</td>\n",
                            "      <td>Aathal</td>\n",
                            "      <td>ZH</td>\n",
                            "      <td>SBB</td>\n",
                            "      <td>2018</td>\n",
                            "      <td>740</td>\n",
                            "      <td>800</td>\n",
                            "      <td>610</td>\n",
                            "      <td>SBB</td>\n",
                            "      <td>8.765625</td>\n",
                            "      <td>47.335959</td>\n",
                            "    </tr>\n",
                            "    <tr>\n",
                            "      <th>1</th>\n",
                            "      <td>AB</td>\n",
                            "      <td>8507472</td>\n",
                            "      <td>Ausserberg</td>\n",
                            "      <td>VS</td>\n",
                            "      <td>BLS</td>\n",
                            "      <td>2018</td>\n",
                            "      <td>180</td>\n",
                            "      <td>160</td>\n",
                            "      <td>210</td>\n",
                            "      <td>BLS</td>\n",
                            "      <td>7.844167</td>\n",
                            "      <td>46.312348</td>\n",
                            "    </tr>\n",
                            "    <tr>\n",
                            "      <th>2</th>\n",
                            "      <td>ABE</td>\n",
                            "      <td>8504404</td>\n",
                            "      <td>Aarberg</td>\n",
                            "      <td>BE</td>\n",
                            "      <td>SBB</td>\n",
                            "      <td>2022</td>\n",
                            "      <td>520</td>\n",
                            "      <td>580</td>\n",
                            "      <td>400</td>\n",
                            "      <td>BLS</td>\n",
                            "      <td>7.278693</td>\n",
                            "      <td>47.044541</td>\n",
                            "    </tr>\n",
                            "    <tr>\n",
                            "      <th>3</th>\n",
                            "      <td>ABE</td>\n",
                            "      <td>8504404</td>\n",
                            "      <td>Aarberg</td>\n",
                            "      <td>BE</td>\n",
                            "      <td>SBB</td>\n",
                            "      <td>2023</td>\n",
                            "      <td>580</td>\n",
                            "      <td>620</td>\n",
                            "      <td>460</td>\n",
                            "      <td>BLS</td>\n",
                            "      <td>7.278693</td>\n",
                            "      <td>47.044541</td>\n",
                            "    </tr>\n",
                            "    <tr>\n",
                            "      <th>4</th>\n",
                            "      <td>ABO</td>\n",
                            "      <td>8502000</td>\n",
                            "      <td>Aarburg-Oftringen</td>\n",
                            "      <td>AG</td>\n",
                            "      <td>SBB</td>\n",
                            "      <td>2022</td>\n",
                            "      <td>2500</td>\n",
                            "      <td>2900</td>\n",
                            "      <td>1500</td>\n",
                            "      <td>SBB</td>\n",
                            "      <td>7.908223</td>\n",
                            "      <td>47.320268</td>\n",
                            "    </tr>\n",
                            "    <tr>\n",
                            "      <th>5</th>\n",
                            "      <td>ADZ</td>\n",
                            "      <td>8509266</td>\n",
                            "      <td>Ardez</td>\n",
                            "      <td>GR</td>\n",
                            "      <td>RhB</td>\n",
                            "      <td>2018</td>\n",
                            "      <td>240</td>\n",
                            "      <td>250</td>\n",
                            "      <td>240</td>\n",
                            "      <td>RhB</td>\n",
                            "      <td>10.201050</td>\n",
                            "      <td>46.773540</td>\n",
                            "    </tr>\n",
                            "    <tr>\n",
                            "      <th>6</th>\n",
                            "      <td>AEF</td>\n",
                            "      <td>8508085</td>\n",
                            "      <td>Aefligen</td>\n",
                            "      <td>BE</td>\n",
                            "      <td>BLS</td>\n",
                            "      <td>2023</td>\n",
                            "      <td>410</td>\n",
                            "      <td>480</td>\n",
                            "      <td>250</td>\n",
                            "      <td>BLS</td>\n",
                            "      <td>7.559253</td>\n",
                            "      <td>47.095594</td>\n",
                            "    </tr>\n",
                            "    <tr>\n",
                            "      <th>7</th>\n",
                            "      <td>ALLI</td>\n",
                            "      <td>8501378</td>\n",
                            "      <td>Allières</td>\n",
                            "      <td>FR</td>\n",
                            "      <td>MOB</td>\n",
                            "      <td>2022</td>\n",
                            "      <td>60</td>\n",
                            "      <td>49</td>\n",
                            "      <td>110</td>\n",
                            "      <td>MOB</td>\n",
                            "      <td>7.007890</td>\n",
                            "      <td>46.469820</td>\n",
                            "    </tr>\n",
                            "    <tr>\n",
                            "      <th>8</th>\n",
                            "      <td>ALLI</td>\n",
                            "      <td>8501378</td>\n",
                            "      <td>Allières</td>\n",
                            "      <td>FR</td>\n",
                            "      <td>MOB</td>\n",
                            "      <td>2023</td>\n",
                            "      <td>50</td>\n",
                            "      <td>50</td>\n",
                            "      <td>60</td>\n",
                            "      <td>MOB</td>\n",
                            "      <td>7.007890</td>\n",
                            "      <td>46.469820</td>\n",
                            "    </tr>\n",
                            "    <tr>\n",
                            "      <th>9</th>\n",
                            "      <td>ALN</td>\n",
                            "      <td>8506125</td>\n",
                            "      <td>Altnau</td>\n",
                            "      <td>TG</td>\n",
                            "      <td>SBB</td>\n",
                            "      <td>2023</td>\n",
                            "      <td>400</td>\n",
                            "      <td>400</td>\n",
                            "      <td>380</td>\n",
                            "      <td>Thurbo</td>\n",
                            "      <td>9.265918</td>\n",
                            "      <td>47.621368</td>\n",
                            "    </tr>\n",
                            "  </tbody>\n",
                            "</table>\n",
                            "</div>"
                        ],
                        "text/plain": [
                            "   Code      UIC            Bahnhof Kanton ISB_GI  Jahr   DTV   DWV  DNWV  \\\n",
                            "0   AAT  8503124             Aathal     ZH    SBB  2018   740   800   610   \n",
                            "1    AB  8507472         Ausserberg     VS    BLS  2018   180   160   210   \n",
                            "2   ABE  8504404            Aarberg     BE    SBB  2022   520   580   400   \n",
                            "3   ABE  8504404            Aarberg     BE    SBB  2023   580   620   460   \n",
                            "4   ABO  8502000  Aarburg-Oftringen     AG    SBB  2022  2500  2900  1500   \n",
                            "5   ADZ  8509266              Ardez     GR    RhB  2018   240   250   240   \n",
                            "6   AEF  8508085           Aefligen     BE    BLS  2023   410   480   250   \n",
                            "7  ALLI  8501378           Allières     FR    MOB  2022    60    49   110   \n",
                            "8  ALLI  8501378           Allières     FR    MOB  2023    50    50    60   \n",
                            "9   ALN  8506125             Altnau     TG    SBB  2023   400   400   380   \n",
                            "\n",
                            "      EVU        lon        lat  \n",
                            "0     SBB   8.765625  47.335959  \n",
                            "1     BLS   7.844167  46.312348  \n",
                            "2     BLS   7.278693  47.044541  \n",
                            "3     BLS   7.278693  47.044541  \n",
                            "4     SBB   7.908223  47.320268  \n",
                            "5     RhB  10.201050  46.773540  \n",
                            "6     BLS   7.559253  47.095594  \n",
                            "7     MOB   7.007890  46.469820  \n",
                            "8     MOB   7.007890  46.469820  \n",
                            "9  Thurbo   9.265918  47.621368  "
                        ]
                    },
                    "execution_count": 21,
                    "metadata": {},
                    "output_type": "execute_result"
                }
            ],
            "source": [
                "# Step 1: Load CSV\n",
                "csv_file = 'data_prepared.csv'  # <-- Change if needed\n",
                "df = pd.read_csv(csv_file)\n",
                "\n",
                "print(\"DataFrame Shape:\", df.shape)\n",
                "df.head(10)"
            ]
        },
        {
            "cell_type": "markdown",
            "metadata": {},
            "source": [
                "### 1.1 Check for Missing or Invalid Data\n",
                "We check whether the columns we need are present, and how many missing values exist. If necessary, we can drop or impute them."
            ]
        },
        {
            "cell_type": "code",
            "execution_count": 22,
            "metadata": {},
            "outputs": [
                {
                    "data": {
                        "text/plain": [
                            "Code       0\n",
                            "UIC        0\n",
                            "Bahnhof    0\n",
                            "Kanton     0\n",
                            "ISB_GI     0\n",
                            "Jahr       0\n",
                            "DTV        0\n",
                            "DWV        0\n",
                            "DNWV       0\n",
                            "EVU        0\n",
                            "lon        0\n",
                            "lat        0\n",
                            "dtype: int64"
                        ]
                    },
                    "execution_count": 22,
                    "metadata": {},
                    "output_type": "execute_result"
                }
            ],
            "source": [
                "# Checking for missing values\n",
                "df.isna().sum()"
            ]
        },
        {
            "cell_type": "markdown",
            "metadata": {},
            "source": [
                "If needed, we can **drop** rows with critical missing columns (e.g., `DTV`, `DWV`, `DNWV`, `Kanton`, `EVU`) or **impute** them. Below we demonstrate dropping them for clarity."
            ]
        },
        {
            "cell_type": "code",
            "execution_count": 23,
            "metadata": {},
            "outputs": [
                {
                    "name": "stdout",
                    "output_type": "stream",
                    "text": [
                        "Final shape after cleaning: (3470, 12)\n"
                    ]
                }
            ],
            "source": [
                "# We define a list of required columns for analysis\n",
                "required_cols = ['Kanton','EVU','DTV','DWV','DNWV']\n",
                "df.dropna(subset=required_cols, inplace=True)\n",
                "\n",
                "# Convert numeric columns if they're strings\n",
                "for col in ['DTV','DWV','DNWV','lon','lat']:\n",
                "    df[col] = pd.to_numeric(df[col], errors='coerce')\n",
                "\n",
                "# Drop rows that still have NaN in these columns after conversion\n",
                "df.dropna(subset=['DTV','DWV','DNWV','lon','lat'], inplace=True)\n",
                "\n",
                "print(\"Final shape after cleaning:\", df.shape)"
            ]
        },
        {
            "cell_type": "markdown",
            "metadata": {},
            "source": [
                "## 2. Descriptive Statistics & Visualizations\n",
                "Let's get a sense of the numeric columns, especially how skewed `DTV` might be."
            ]
        },
        {
            "cell_type": "code",
            "execution_count": 24,
            "metadata": {},
            "outputs": [
                {
                    "data": {
                        "text/html": [
                            "<div>\n",
                            "<style scoped>\n",
                            "    .dataframe tbody tr th:only-of-type {\n",
                            "        vertical-align: middle;\n",
                            "    }\n",
                            "\n",
                            "    .dataframe tbody tr th {\n",
                            "        vertical-align: top;\n",
                            "    }\n",
                            "\n",
                            "    .dataframe thead th {\n",
                            "        text-align: right;\n",
                            "    }\n",
                            "</style>\n",
                            "<table border=\"1\" class=\"dataframe\">\n",
                            "  <thead>\n",
                            "    <tr style=\"text-align: right;\">\n",
                            "      <th></th>\n",
                            "      <th>DTV</th>\n",
                            "      <th>DWV</th>\n",
                            "      <th>DNWV</th>\n",
                            "    </tr>\n",
                            "  </thead>\n",
                            "  <tbody>\n",
                            "    <tr>\n",
                            "      <th>count</th>\n",
                            "      <td>3470.000000</td>\n",
                            "      <td>3470.000000</td>\n",
                            "      <td>3470.000000</td>\n",
                            "    </tr>\n",
                            "    <tr>\n",
                            "      <th>mean</th>\n",
                            "      <td>3180.785303</td>\n",
                            "      <td>3540.288761</td>\n",
                            "      <td>2364.142939</td>\n",
                            "    </tr>\n",
                            "    <tr>\n",
                            "      <th>std</th>\n",
                            "      <td>14984.987634</td>\n",
                            "      <td>16302.445578</td>\n",
                            "      <td>12109.286142</td>\n",
                            "    </tr>\n",
                            "    <tr>\n",
                            "      <th>min</th>\n",
                            "      <td>49.000000</td>\n",
                            "      <td>49.000000</td>\n",
                            "      <td>49.000000</td>\n",
                            "    </tr>\n",
                            "    <tr>\n",
                            "      <th>25%</th>\n",
                            "      <td>210.000000</td>\n",
                            "      <td>220.000000</td>\n",
                            "      <td>150.000000</td>\n",
                            "    </tr>\n",
                            "    <tr>\n",
                            "      <th>50%</th>\n",
                            "      <td>590.000000</td>\n",
                            "      <td>660.000000</td>\n",
                            "      <td>410.000000</td>\n",
                            "    </tr>\n",
                            "    <tr>\n",
                            "      <th>75%</th>\n",
                            "      <td>1600.000000</td>\n",
                            "      <td>1800.000000</td>\n",
                            "      <td>1100.000000</td>\n",
                            "    </tr>\n",
                            "    <tr>\n",
                            "      <th>max</th>\n",
                            "      <td>423600.000000</td>\n",
                            "      <td>471300.000000</td>\n",
                            "      <td>349700.000000</td>\n",
                            "    </tr>\n",
                            "  </tbody>\n",
                            "</table>\n",
                            "</div>"
                        ],
                        "text/plain": [
                            "                 DTV            DWV           DNWV\n",
                            "count    3470.000000    3470.000000    3470.000000\n",
                            "mean     3180.785303    3540.288761    2364.142939\n",
                            "std     14984.987634   16302.445578   12109.286142\n",
                            "min        49.000000      49.000000      49.000000\n",
                            "25%       210.000000     220.000000     150.000000\n",
                            "50%       590.000000     660.000000     410.000000\n",
                            "75%      1600.000000    1800.000000    1100.000000\n",
                            "max    423600.000000  471300.000000  349700.000000"
                        ]
                    },
                    "execution_count": 24,
                    "metadata": {},
                    "output_type": "execute_result"
                }
            ],
            "source": [
                "# Basic descriptive stats for DTV, DWV, DNWV\n",
                "df[['DTV','DWV','DNWV']].describe()"
            ]
        },
        {
            "cell_type": "markdown",
            "metadata": {},
            "source": [
                "### 2.1 Distribution of DTV\n",
                "Traffic data can be **highly skewed**, with many small/medium stations and a few extremely large ones. Let's visualize it."
            ]
        },
        {
            "cell_type": "code",
            "execution_count": 25,
            "metadata": {},
            "outputs": [
                {
                    "data": {
                        "image/png": "[encoded data removed]",
                        "text/plain": [
                            "<Figure size 800x500 with 1 Axes>"
                        ]
                    },
                    "metadata": {},
                    "output_type": "display_data"
                }
            ],
            "source": [
                "plt.figure(figsize=(8,5))\n",
                "sns.histplot(data=df, x='DTV', kde=True, color='blue')\n",
                "plt.title('Distribution of DTV (Linear Scale)')\n",
                "plt.xlabel('DTV')\n",
                "plt.ylabel('Count')\n",
                "plt.tight_layout()\n",
                "plt.show()"
            ]
        },
        {
            "cell_type": "markdown",
            "metadata": {},
            "source": [
                "Because the data are often **heavily skewed**, you might see a single spike near 0 and a very long tail. Let's also plot it on a **log scale** for better visibility."
            ]
        },
        {
            "cell_type": "code",
            "execution_count": 26,
            "metadata": {},
            "outputs": [
                {
                    "data": {
                        "image/png": "[encoded data removed]",
                        "text/plain": [
                            "<Figure size 800x500 with 1 Axes>"
                        ]
                    },
                    "metadata": {},
                    "output_type": "display_data"
                }
            ],
            "source": [
                "plt.figure(figsize=(8,5))\n",
                "sns.histplot(data=df, x='DTV', kde=True, color='blue')\n",
                "plt.xscale('log')\n",
                "plt.title('Distribution of DTV (Log Scale)')\n",
                "plt.xlabel('DTV (log scale)')\n",
                "plt.ylabel('Count')\n",
                "plt.tight_layout()\n",
                "plt.show()"
            ]
        },
        {
            "cell_type": "markdown",
            "metadata": {},
            "source": [
                "### 2.2 Descriptive Insights by Canton\n",
                "Let's look at how many station entries there are per `Kanton`."
            ]
        },
        {
            "cell_type": "code",
            "execution_count": 27,
            "metadata": {},
            "outputs": [
                {
                    "data": {
                        "text/plain": [
                            "Kanton\n",
                            "BE    594\n",
                            "VD    411\n",
                            "ZH    399\n",
                            "GR    333\n",
                            "TG    198\n",
                            "AG    193\n",
                            "SG    184\n",
                            "VS    175\n",
                            "LU    153\n",
                            "TI    102\n",
                            "FR     96\n",
                            "SO     93\n",
                            "SZ     84\n",
                            "NE     80\n",
                            "BL     63\n",
                            "ZG     57\n",
                            "GE     56\n",
                            "GL     48\n",
                            "JU     40\n",
                            "OW     33\n",
                            "UR     30\n",
                            "NW     21\n",
                            "SH     12\n",
                            "BS      9\n",
                            "AR      6\n",
                            "Name: count, dtype: int64"
                        ]
                    },
                    "execution_count": 27,
                    "metadata": {},
                    "output_type": "execute_result"
                }
            ],
            "source": [
                "kanton_counts = df['Kanton'].value_counts()\n",
                "kanton_counts"
            ]
        },
        {
            "cell_type": "markdown",
            "metadata": {},
            "source": [
                "Visualize counts per canton with a bar plot."
            ]
        },
        {
            "cell_type": "code",
            "execution_count": 28,
            "metadata": {},
            "outputs": [
                {
                    "data": {
                        "image/png": "[encoded data removed]",
                        "text/plain": [
                            "<Figure size 1000x500 with 1 Axes>"
                        ]
                    },
                    "metadata": {},
                    "output_type": "display_data"
                }
            ],
            "source": [
                "plt.figure(figsize=(10,5))\n",
                "sns.barplot(x=kanton_counts.index, y=kanton_counts.values, color='green')\n",
                "plt.title('Number of Station Rows per Kanton')\n",
                "plt.xlabel('Kanton')\n",
                "plt.ylabel('Count')\n",
                "plt.xticks(rotation=45)\n",
                "plt.tight_layout()\n",
                "plt.show()"
            ]
        },
        {
            "cell_type": "markdown",
            "metadata": {},
            "source": [
                "## 3. Chi-Squared Test (Kanton vs. EVU)\n",
                "\n",
                "We test the **association** between two categorical variables:\n",
                "- `Kanton` (canton)\n",
                "- `EVU` (train operator)\n",
                "\n",
                "**Null Hypothesis (H0)**: There is *no* association between Kanton and EVU.\n",
                "\n",
                "**Alternative (H1)**: There *is* some association (the distribution of EVU depends on Kanton or vice-versa)."
            ]
        },
        {
            "cell_type": "code",
            "execution_count": 29,
            "metadata": {},
            "outputs": [
                {
                    "name": "stdout",
                    "output_type": "stream",
                    "text": [
                        "--- Chi-Squared Test: Kanton vs EVU ---\n",
                        "Chi2 Statistic: 20790.0265744777\n",
                        "p-value: 0.0\n",
                        "Degrees of Freedom: 1320\n",
                        "Expected Frequency Table:\n",
                        "[[1.66858790e-01 2.38051873e+01 2.22478386e-01 ... 5.56195965e-01\n",
                        "  1.51285303e+01 5.67319885e+00]\n",
                        " [5.18731988e-03 7.40057637e-01 6.91642651e-03 ... 1.72910663e-02\n",
                        "  4.70317003e-01 1.76368876e-01]\n",
                        " [5.13544669e-01 7.32657061e+01 6.84726225e-01 ... 1.71181556e+00\n",
                        "  4.65613833e+01 1.74605187e+01]\n",
                        " ...\n",
                        " [1.51296830e-01 2.15850144e+01 2.01729107e-01 ... 5.04322767e-01\n",
                        "  1.37175793e+01 5.14409222e+00]\n",
                        " [4.92795389e-02 7.03054755e+00 6.57060519e-02 ... 1.64265130e-01\n",
                        "  4.46801153e+00 1.67550432e+00]\n",
                        " [3.44956772e-01 4.92138329e+01 4.59942363e-01 ... 1.14985591e+00\n",
                        "  3.12760807e+01 1.17285303e+01]]\n",
                        "\n",
                        "Conclusion: p-value < 0.05 => There is a statistically significant association between Kanton and EVU.\n"
                    ]
                }
            ],
            "source": [
                "contingency_table = pd.crosstab(df['Kanton'], df['EVU'])\n",
                "chi2_stat, p_value, dof, expected = chi2_contingency(contingency_table)\n",
                "\n",
                "print(\"--- Chi-Squared Test: Kanton vs EVU ---\")\n",
                "print(\"Chi2 Statistic:\", chi2_stat)\n",
                "print(\"p-value:\", p_value)\n",
                "print(\"Degrees of Freedom:\", dof)\n",
                "print(\"Expected Frequency Table:\")\n",
                "print(expected)\n",
                "\n",
                "if p_value < 0.05:\n",
                "    print(\"\\nConclusion: p-value < 0.05 => There is a statistically significant association between Kanton and EVU.\")\n",
                "else:\n",
                "    print(\"\\nConclusion: p-value >= 0.05 => No strong evidence of association between Kanton and EVU.\")"
            ]
        },
        {
            "cell_type": "markdown",
            "metadata": {},
            "source": [
                "## 4. One-Way ANOVA (DTV by Kanton)\n",
                "\n",
                "We want to see if the **mean DTV** differs significantly **across cantons**.\n",
                "\n",
                "**Null Hypothesis (H0)**: All cantons have the *same* mean DTV.\n",
                "\n",
                "**Alternative (H1)**: At least one canton has a different mean DTV.\n",
                "\n",
                "### 4.1 Check ANOVA Assumptions\n",
                "- **Normality** in each group (somewhat robust if sample sizes are large)\n",
                "- **Homogeneity of variances** across groups\n"
            ]
        },
        {
            "cell_type": "code",
            "execution_count": 30,
            "metadata": {},
            "outputs": [
                {
                    "name": "stdout",
                    "output_type": "stream",
                    "text": [
                        "--- Levene's Test for Homogeneity of Variances (DTV by Kanton) ---\n",
                        "Levene Statistic: 4.642075492465393\n",
                        "p-value: 5.650017669477684e-13\n",
                        "\n",
                        "Conclusion: p-value < 0.05 => Variances may not be equal.\n"
                    ]
                }
            ],
            "source": [
                "# Group the data by Kanton\n",
                "grouped = df.groupby('Kanton')['DTV']\n",
                "groups_list = [grouped.get_group(k) for k in grouped.groups]\n",
                "\n",
                "# Levene's Test for equal variances\n",
                "levene_stat, levene_p = levene(*groups_list)\n",
                "print(\"--- Levene's Test for Homogeneity of Variances (DTV by Kanton) ---\")\n",
                "print(\"Levene Statistic:\", levene_stat)\n",
                "print(\"p-value:\", levene_p)\n",
                "if levene_p < 0.05:\n",
                "    print(\"\\nConclusion: p-value < 0.05 => Variances may not be equal.\")\n",
                "else:\n",
                "    print(\"\\nConclusion: p-value >= 0.05 => Variances are likely equal.\")\n"
            ]
        },
        {
            "cell_type": "markdown",
            "metadata": {},
            "source": [
                "### 4.2 Perform ANOVA\n",
                "We use `scipy.stats.f_oneway` for a one-way ANOVA."
            ]
        },
        {
            "cell_type": "code",
            "execution_count": 31,
            "metadata": {},
            "outputs": [
                {
                    "name": "stdout",
                    "output_type": "stream",
                    "text": [
                        "\n",
                        "--- One-Way ANOVA: DTV by Kanton ---\n",
                        "F-statistic: 5.3570256849428874\n",
                        "p-value: 6.301304916858232e-16\n",
                        "\n",
                        "Conclusion: p-value < 0.05 => At least one canton has a different mean DTV.\n"
                    ]
                }
            ],
            "source": [
                "f_stat, p_val = f_oneway(*groups_list)\n",
                "print(\"\\n--- One-Way ANOVA: DTV by Kanton ---\")\n",
                "print(\"F-statistic:\", f_stat)\n",
                "print(\"p-value:\", p_val)\n",
                "\n",
                "if p_val < 0.05:\n",
                "    print(\"\\nConclusion: p-value < 0.05 => At least one canton has a different mean DTV.\")\n",
                "else:\n",
                "    print(\"\\nConclusion: p-value >= 0.05 => No significant difference in mean DTV among cantons.\")"
            ]
        },
        {
            "cell_type": "markdown",
            "metadata": {},
            "source": [
                "#### 4.3 (Optional) Post-Hoc Test\n",
                "If ANOVA is significant, you might want to know *which* cantons differ. You can use tools like **Tukey's HSD** from `statsmodels.sandbox.stats.multicomp`. \n",
                "This is optional, but recommended if you get a significant result and want to see pairwise differences."
            ]
        },
        {
            "cell_type": "code",
            "execution_count": 32,
            "metadata": {},
            "outputs": [
                {
                    "name": "stdout",
                    "output_type": "stream",
                    "text": [
                        "Requirement already satisfied: statsmodels in c:\\users\\fabian\\appdata\\local\\programs\\python\\python310\\lib\\site-packages (0.14.4)\n",
                        "Requirement already satisfied: numpy<3,>=1.22.3 in c:\\users\\fabian\\appdata\\local\\programs\\python\\python310\\lib\\site-packages (from statsmodels) (2.2.1)\n",
                        "Requirement already satisfied: scipy!=1.9.2,>=1.8 in c:\\users\\fabian\\appdata\\local\\programs\\python\\python310\\lib\\site-packages (from statsmodels) (1.15.0)\n",
                        "Requirement already satisfied: pandas!=2.1.0,>=1.4 in c:\\users\\fabian\\appdata\\local\\programs\\python\\python310\\lib\\site-packages (from statsmodels) (2.2.3)\n",
                        "Requirement already satisfied: patsy>=0.5.6 in c:\\users\\fabian\\appdata\\local\\programs\\python\\python310\\lib\\site-packages (from statsmodels) (1.0.1)\n",
                        "Requirement already satisfied: packaging>=21.3 in c:\\users\\fabian\\appdata\\local\\programs\\python\\python310\\lib\\site-packages (from statsmodels) (21.3)\n",
                        "Requirement already satisfied: pyparsing!=3.0.5,>=2.0.2 in c:\\users\\fabian\\appdata\\local\\programs\\python\\python310\\lib\\site-packages (from packaging>=21.3->statsmodels) (3.0.6)\n",
                        "Requirement already satisfied: python-dateutil>=2.8.2 in c:\\users\\fabian\\appdata\\local\\programs\\python\\python310\\lib\\site-packages (from pandas!=2.1.0,>=1.4->statsmodels) (2.8.2)\n",
                        "Requirement already satisfied: pytz>=2020.1 in c:\\users\\fabian\\appdata\\local\\programs\\python\\python310\\lib\\site-packages (from pandas!=2.1.0,>=1.4->statsmodels) (2024.2)\n",
                        "Requirement already satisfied: tzdata>=2022.7 in c:\\users\\fabian\\appdata\\local\\programs\\python\\python310\\lib\\site-packages (from pandas!=2.1.0,>=1.4->statsmodels) (2024.2)\n",
                        "Requirement already satisfied: six>=1.5 in c:\\users\\fabian\\appdata\\local\\programs\\python\\python310\\lib\\site-packages (from python-dateutil>=2.8.2->pandas!=2.1.0,>=1.4->statsmodels) (1.16.0)\n",
                        "Note: you may need to restart the kernel to use updated packages.\n",
                        "      Multiple Comparison of Means - Tukey HSD, FWER=0.05      \n",
                        "===============================================================\n",
                        "group1 group2   meandiff  p-adj     lower       upper    reject\n",
                        "---------------------------------------------------------------\n",
                        "    AG     AR   -724.4421    1.0 -23130.6641  21681.7798  False\n",
                        "    AG     BE   -716.6341    1.0  -5194.9205   3761.6523  False\n",
                        "    AG     BL   -213.2993    1.0  -8056.0322   7629.4337  False\n",
                        "    AG     BS  28993.8912    0.0  10561.9044   47425.878   True\n",
                        "    AG     FR  -1682.4317    1.0  -8432.8553   5067.9919  False\n",
                        "    AG     GE   3281.3912 0.9993  -4922.5659  11485.3483  False\n",
                        "    AG     GL  -2629.5046    1.0  -11347.279   6088.2697  False\n",
                        "    AG     GR  -2365.0187 0.9892  -7254.7892   2524.7518  False\n",
                        "    AG     JU  -2099.2838    1.0 -11489.2858   7290.7182  False\n",
                        "    AG     LU   -133.8212    1.0  -5984.5512   5716.9087  False\n",
                        "    AG     NE  -1393.1463    1.0  -8580.2523   5793.9597  False\n",
                        "    AG     NW  -1568.0136    1.0 -13987.8238  10851.7966  False\n",
                        "    AG     OW  -2236.1088    1.0 -12417.6839   7945.4663  False\n",
                        "    AG     SG    -90.7284    1.0  -5659.7574   5478.3007  False\n",
                        "    AG     SH   2848.0579    1.0  -13232.608  18928.7237  False\n",
                        "    AG     SO    648.4073    1.0  -6174.3396   7471.1542  False\n",
                        "    AG     SZ  -1142.0136    1.0  -8207.1078   5923.0807  False\n",
                        "    AG     TG  -2119.5078 0.9996  -7586.8153   3347.7997  False\n",
                        "    AG     TI   -473.7068    1.0  -7090.2118   6142.7981  False\n",
                        "    AG     UR  -2147.4421    1.0 -12754.8563    8459.972  False\n",
                        "    AG     VD   -1003.155    1.0  -5719.6055   3713.2954  False\n",
                        "    AG     VS  -1410.9717    1.0  -7052.8356   4230.8922  False\n",
                        "    AG     ZG    867.9087    1.0  -7280.0777   9015.8952  False\n",
                        "    AG     ZH   6014.2421 0.0009    1275.183  10753.3012   True\n",
                        "    AR     BE      7.8081    1.0 -22169.2101  22184.8262  False\n",
                        "    AR     BL    511.1429    1.0 -22581.5734  23603.8591  False\n",
                        "    AR     BS  29718.3333  0.029   1231.4377  58205.2289   True\n",
                        "    AR     FR   -957.9896    1.0 -23702.9517  21786.9726  False\n",
                        "    AR     GE   4005.8333    1.0 -19212.0476  27223.7143  False\n",
                        "    AR     GL  -1905.0625    1.0 -25309.4355  21499.3105  False\n",
                        "    AR     GR  -1640.5766    1.0  -23904.335  20623.1819  False\n",
                        "    AR     JU  -1374.8417    1.0 -25037.8344   22288.151  False\n",
                        "    AR     LU    590.6209    1.0 -21903.7367  23084.9786  False\n",
                        "    AR     NE   -668.7042    1.0  -23547.069  22209.6607  False\n",
                        "    AR     NW   -843.5714    1.0 -25863.8986  24176.7557  False\n",
                        "    AR     OW  -1511.6667    1.0 -25499.7795  22476.4462  False\n",
                        "    AR     SG    633.7138    1.0  -21789.024  23056.4516  False\n",
                        "    AR     SH      3572.5    1.0 -23452.5421  30597.5421  False\n",
                        "    AR     SO   1372.8495    1.0 -21393.6821  24139.3811  False\n",
                        "    AR     SZ   -417.5714    1.0 -23257.9007  22422.7579  False\n",
                        "    AR     TG  -1395.0657    1.0 -23792.7561  21002.6248  False\n",
                        "    AR     TI    250.7353    1.0 -22454.8416  22956.3122  False\n",
                        "    AR     UR     -1423.0    1.0 -25594.9325  22748.9325  False\n",
                        "    AR     VD   -278.7129    1.0 -22505.0484  21947.6226  False\n",
                        "    AR     VS   -686.5295    1.0 -23127.4679  21754.4088  False\n",
                        "    AR     ZG   1592.3509    1.0 -21605.8122  24790.5139  False\n",
                        "    AR     ZH   6738.6842    1.0 -15492.4599  28969.8283  False\n",
                        "    BE     BL    503.3348    1.0  -6658.3559   7665.0255  False\n",
                        "    BE     BS  29710.5253    0.0  11557.8535   47863.197   True\n",
                        "    BE     FR   -965.7977    1.0  -6911.3483    4979.753  False\n",
                        "    BE     GE   3998.0253 0.9679  -3557.5201  11553.5706  False\n",
                        "    BE     GL  -1912.8706    1.0 -10023.4158   6197.6746  False\n",
                        "    BE     GR  -1648.3847 0.9965  -5348.5481   2051.7787  False\n",
                        "    BE     JU  -1382.6497    1.0 -10211.7772   7446.4777  False\n",
                        "    BE     LU    582.8128    1.0  -4317.4315   5483.0572  False\n",
                        "    BE     NE   -676.5122    1.0  -7113.5804   5760.5559  False\n",
                        "    BE     NW   -851.3795    1.0 -12852.7561  11149.9971  False\n",
                        "    BE     OW  -1519.4747    1.0 -11186.2128   8147.2634  False\n",
                        "    BE     SG    625.9057    1.0  -3934.2959   5186.1072  False\n",
                        "    BE     SH   3564.6919    1.0 -12195.0406  19324.4244  False\n",
                        "    BE     SO   1365.0414    1.0  -4662.4979   7392.5806  False\n",
                        "    BE     SZ   -425.3795    1.0   -6725.928   5875.1689  False\n",
                        "    BE     TG  -1402.8737    1.0  -5838.2774   3032.5299  False\n",
                        "    BE     TI    242.9272    1.0  -5550.1282   6035.9827  False\n",
                        "    BE     UR  -1430.8081    1.0 -11545.0845   8683.4684  False\n",
                        "    BE     VD    -286.521    1.0  -3754.4106   3181.3687  False\n",
                        "    BE     VS   -694.3376    1.0  -5343.2065   3954.5313  False\n",
                        "    BE     ZG   1584.5428    1.0  -5910.1911   9079.2767  False\n",
                        "    BE     ZH   6730.8761    0.0      3232.3  10229.4523   True\n",
                        "    BL     BS  29207.1905    0.0   9946.5337  48467.8473   True\n",
                        "    BL     FR  -1469.1324    1.0 -10232.8636   7294.5987  False\n",
                        "    BL     GE   3494.6905 0.9999  -6432.0248  13421.4058  False\n",
                        "    BL     GL  -2416.2054    1.0 -12771.6075   7939.1968  False\n",
                        "    BL     GR  -2151.7194    1.0  -9577.6618    5274.223  False\n",
                        "    BL     JU  -1885.9845    1.0 -12813.3311    9041.362  False\n",
                        "    BL     LU     79.4781    1.0  -8011.6162   8170.5723  False\n",
                        "    BL     NE   -1179.847    1.0 -10284.2008   7924.5068  False\n",
                        "    BL     NW  -1354.7143    1.0 -14974.0553  12264.6268  False\n",
                        "    BL     OW  -2022.8095    1.0 -13637.4226   9591.8035  False\n",
                        "    BL     SG    122.5709    1.0  -7767.2231   8012.3649  False\n",
                        "    BL     SH   3061.3571    1.0 -13962.8192  20085.5335  False\n",
                        "    BL     SO    861.7066    1.0  -7957.8535   9681.2667  False\n",
                        "    BL     SZ   -928.7143    1.0  -9937.0616   8079.6331  False\n",
                        "    BL     TG  -1906.2085    1.0  -9724.5342   5912.1172  False\n",
                        "    BL     TI   -260.4076    1.0  -8921.4065   8400.5914  False\n",
                        "    BL     UR  -1934.1429    1.0  -13923.805  10055.5193  False\n",
                        "    BL     VD   -789.8558    1.0  -8102.8353   6523.1238  False\n",
                        "    BL     VS  -1197.6724    1.0  -9139.0446   6743.6999  False\n",
                        "    BL     ZG    1081.208    1.0  -8799.3005  10961.7165  False\n",
                        "    BL     ZH   6227.5414 0.2413  -1100.0398  13555.1226  False\n",
                        "    BS     FR -30676.3229    0.0 -49518.6333 -11834.0126   True\n",
                        "    BS     GE    -25712.5 0.0004 -45123.0475  -6301.9525   True\n",
                        "    BS     GL -31623.3958    0.0 -51256.6337 -11990.1579   True\n",
                        "    BS     GR -31358.9099    0.0 -49617.4503 -13100.3695   True\n",
                        "    BS     JU  -31093.175    0.0 -51034.0019 -11152.3481   True\n",
                        "    BS     LU -29127.7124    0.0 -47666.7383 -10588.6865   True\n",
                        "    BS     NE -30387.0375    0.0 -49390.1671 -11383.9079   True\n",
                        "    BS     NW -30561.9048 0.0001 -52095.9737  -9027.8358   True\n",
                        "    BS     OW    -31230.0    0.0 -51555.5729 -10904.4271   True\n",
                        "    BS     SG -29084.6196    0.0 -47536.6798 -10632.5594   True\n",
                        "    BS     SH -26145.8333 0.0139 -49979.6802  -2311.9865   True\n",
                        "    BS     SO -28345.4839    0.0 -47213.8255  -9477.1422   True\n",
                        "    BS     SZ -30135.9048    0.0 -49093.2252 -11178.5843   True\n",
                        "    BS     TG  -31113.399    0.0 -49535.0138 -12691.7842   True\n",
                        "    BS     TI  -29467.598    0.0 -48262.3467 -10672.8493   True\n",
                        "    BS     UR -31141.3333    0.0 -51683.5259 -10599.1408   True\n",
                        "    BS     VD -29997.0462    0.0 -48209.9358 -11784.1567   True\n",
                        "    BS     VS -30404.8629    0.0 -48879.0359 -11930.6898   True\n",
                        "    BS     ZG -28125.9825    0.0   -47512.94  -8739.0249   True\n",
                        "    BS     ZH -22979.6491 0.0011 -41198.4066  -4760.8917   True\n",
                        "    FR     GE   4963.8229 0.9544  -4124.6002  14052.2461  False\n",
                        "    FR     GL   -947.0729    1.0 -10501.8682   8607.7223  False\n",
                        "    FR     GR    -682.587    1.0   -6943.927    5578.753  False\n",
                        "    FR     JU   -416.8521    1.0 -10588.7084   9755.0042  False\n",
                        "    FR     LU   1548.6105    1.0  -5488.8297   8586.0507  False\n",
                        "    FR     NE    289.2854    1.0  -7892.9524   8471.5232  False\n",
                        "    FR     NW    114.4182    1.0 -12906.5729  13135.4092  False\n",
                        "    FR     OW   -553.6771    1.0 -11460.5096  10353.1554  False\n",
                        "    FR     SG   1591.7034    1.0  -5213.3395   8396.7462  False\n",
                        "    FR     SH   4530.4896    1.0 -12018.9013  21079.8804  False\n",
                        "    FR     SO    2330.839    1.0  -5533.2819    10194.96  False\n",
                        "    FR     SZ    540.4182    1.0  -7534.8577    8615.694  False\n",
                        "    FR     TG   -437.0761    1.0  -7159.1275   6284.9753  False\n",
                        "    FR     TI   1208.7249    1.0  -6477.1492    8894.599  False\n",
                        "    FR     UR   -465.0104    1.0 -11770.3966  10840.3758  False\n",
                        "    FR     VD    679.2767    1.0  -5447.6661   6806.2195  False\n",
                        "    FR     VS    271.4601    1.0  -6593.3161   7136.2362  False\n",
                        "    FR     ZG   2550.3405    1.0   -6487.591   11588.272  False\n",
                        "    FR     ZH   7696.6738 0.0013   1552.3102  13841.0374   True\n",
                        "    GE     GL  -5910.8958  0.945 -16542.4905   4720.6989  False\n",
                        "    GE     GR  -5646.4099 0.5791 -13452.8862   2160.0664  False\n",
                        "    GE     JU   -5380.675   0.99 -16570.1055   5808.7555  False\n",
                        "    GE     LU  -3415.2124 0.9992   -11856.91   5026.4851  False\n",
                        "    GE     NE  -4674.5375  0.985 -14091.8465   4742.7715  False\n",
                        "    GE     NW  -4849.4048 0.9999  -18679.911   8981.1015  False\n",
                        "    GE     OW     -5517.5 0.9936 -17379.0213   6344.0213  False\n",
                        "    GE     SG  -3372.1196  0.999 -11621.0771    4876.838  False\n",
                        "    GE     SH   -433.3333    1.0 -17626.9086  16760.2419  False\n",
                        "    GE     SO  -2632.9839    1.0 -11775.2534   6509.2857  False\n",
                        "    GE     SZ  -4423.4048 0.9916 -13747.9302   4901.1206  False\n",
                        "    GE     TG   -5400.899 0.7566 -13581.5266   2779.7286  False\n",
                        "    GE     TI   -3755.098 0.9986 -12744.5004   5234.3043  False\n",
                        "    GE     UR  -5428.8333 0.9967 -17657.8337   6800.1671  False\n",
                        "    GE     VD  -4284.5462 0.9445  -11983.645   3414.5525  False\n",
                        "    GE     VS  -4692.3629 0.9347 -12990.6666   3605.9409  False\n",
                        "    GE     ZG  -2413.4825    1.0 -12583.0891   7756.1242  False\n",
                        "    GE     ZH   2732.8509 0.9999  -4980.1186  10445.8203  False\n",
                        "    GL     GR    264.4859    1.0  -8080.3178   8609.2897  False\n",
                        "    GL     JU    530.2208    1.0 -11041.2109  12101.6525  False\n",
                        "    GL     LU   2495.6834    1.0  -6446.1808  11437.5476  False\n",
                        "    GL     NE   1236.3583    1.0  -8631.7918  11104.5084  False\n",
                        "    GL     NW   1061.4911    1.0 -13079.8519   15202.834  False\n",
                        "    GL     OW    393.3958    1.0 -11829.1393   12615.931  False\n",
                        "    GL     SG   2538.7763    1.0  -6221.3595   11298.912  False\n",
                        "    GL     SH   5477.5625    1.0 -11967.0272  22922.1522  False\n",
                        "    GL     SO    3277.912    1.0  -6328.1158  12883.9397  False\n",
                        "    GL     SZ   1487.4911    1.0  -8292.1537  11267.1358  False\n",
                        "    GL     TG    509.9968    1.0  -8185.8266   9205.8203  False\n",
                        "    GL     TI   2155.7978    1.0  -7304.8593  11616.4548  False\n",
                        "    GL     UR    482.0625    1.0   -12097.41   13061.535  False\n",
                        "    GL     VD   1626.3496    1.0  -6618.0909   9870.7901  False\n",
                        "    GL     VS    1218.533    1.0  -7588.0851  10025.1511  False\n",
                        "    GL     ZG   3497.4134    1.0  -7091.0509  14085.8777  False\n",
                        "    GL     ZH   8643.7467 0.0276    386.3515  16901.1419   True\n",
                        "    GR     JU    265.7349    1.0   -8779.059   9310.5289  False\n",
                        "    GR     LU   2231.1975 0.9984  -3047.7419   7510.1369  False\n",
                        "    GR     NE    971.8724    1.0  -5757.9606   7701.7055  False\n",
                        "    GR     NW    797.0051    1.0 -11363.9095  12957.9198  False\n",
                        "    GR     OW    128.9099    1.0  -9735.1984   9993.0182  False\n",
                        "    GR     SG   2274.2903 0.9948  -2690.6109   7239.1916  False\n",
                        "    GR     SH   5213.0766    1.0 -10668.4843  21094.6374  False\n",
                        "    GR     SO    3013.426 0.9914  -3325.8196   9352.6717  False\n",
                        "    GR     SZ   1223.0051    1.0  -5376.3673   7822.3776  False\n",
                        "    GR     TG    245.5109    1.0   -4605.016   5096.0379  False\n",
                        "    GR     TI   1891.3119    1.0  -4225.4109   8008.0347  False\n",
                        "    GR     UR    217.5766    1.0 -10085.5004  10520.6535  False\n",
                        "    GR     VD   1361.8637    1.0  -2623.2417   5346.9691  False\n",
                        "    GR     VS    954.0471    1.0  -4092.4159     6000.51  False\n",
                        "    GR     ZG   3232.9275 0.9987  -4514.7072  10980.5621  False\n",
                        "    GR     ZH   8379.2608    0.0   4367.4231  12391.0984   True\n",
                        "    JU     LU   1965.4626    1.0  -7632.9479   11563.873  False\n",
                        "    JU     NE    706.1375    1.0  -9760.6163  11172.8913  False\n",
                        "    JU     NW    531.2702    1.0  -14034.104  15096.6445  False\n",
                        "    JU     OW    -136.825    1.0 -12847.5651  12573.9151  False\n",
                        "    JU     SG   2008.5554    1.0  -7420.7885  11437.8994  False\n",
                        "    JU     SH   4947.3417    1.0 -12842.7189  22737.4023  False\n",
                        "    JU     SO   2747.6911    1.0  -7472.3049  12967.6871  False\n",
                        "    JU     SZ    957.2702    1.0  -9426.0818  11340.6223  False\n",
                        "    JU     TG     -20.224    1.0  -9389.8501   9349.4021  False\n",
                        "    JU     TI    1625.577    1.0  -8457.9036  11709.0575  False\n",
                        "    JU     UR    -48.1583    1.0 -13102.4939  13006.1772  False\n",
                        "    JU     VD   1096.1288    1.0  -7856.1529  10048.4105  False\n",
                        "    JU     VS    688.3121    1.0  -8784.2308  10160.8551  False\n",
                        "    JU     ZG   2967.1925    1.0  -8181.2659   14115.651  False\n",
                        "    JU     ZH   8113.5259 0.1439   -850.6876  17077.7394  False\n",
                        "    LU     NE  -1259.3251    1.0  -8716.6596   6198.0095  False\n",
                        "    LU     NW  -1434.1923    1.0 -14012.3095  11143.9248  False\n",
                        "    LU     OW  -2102.2876    1.0 -12476.3812    8271.806  False\n",
                        "    LU     SG     43.0929    1.0  -5870.5719   5956.7576  False\n",
                        "    LU     SH   2981.8791    1.0 -13221.3663  19185.1244  False\n",
                        "    LU     SO    782.2285    1.0  -6324.6147   7889.0718  False\n",
                        "    LU     SZ  -1008.1923    1.0  -8348.0086   6331.6239  False\n",
                        "    LU     TG  -1985.6866    1.0  -7803.6585   3832.2854  False\n",
                        "    LU     TI   -339.8856    1.0  -7248.9727   6569.2014  False\n",
                        "    LU     UR  -2013.6209    1.0 -12805.9599    8778.718  False\n",
                        "    LU     VD   -869.3338    1.0  -5988.1472   4249.4796  False\n",
                        "    LU     VS  -1277.1504    1.0  -7259.4555   4705.1546  False\n",
                        "    LU     ZG     1001.73    1.0  -7385.5836   9389.0435  False\n",
                        "    LU     ZH   6148.0633 0.0031   1008.4109  11287.7157   True\n",
                        "    NE     NW   -174.8673    1.0 -13427.5079  13077.7733  False\n",
                        "    NE     OW   -842.9625    1.0 -12025.3267  10339.4017  False\n",
                        "    NE     SG   1302.4179    1.0   -5936.013   8540.8488  False\n",
                        "    NE     SH   4241.2042    1.0 -12491.0584  20973.4668  False\n",
                        "    NE     SO   2041.5536    1.0   -6200.453  10283.5602  False\n",
                        "    NE     SZ    251.1327    1.0  -8192.5841   8694.8496  False\n",
                        "    NE     TG   -726.3615    1.0  -7886.8258   6434.1028  False\n",
                        "    NE     TI    919.4395    1.0   -7152.669   8991.5479  False\n",
                        "    NE     UR   -754.2958    1.0 -12325.7275  10817.1359  False\n",
                        "    NE     VD    389.9913    1.0  -6214.9843   6994.9668  False\n",
                        "    NE     VS    -17.8254    1.0  -7312.4416   7276.7908  False\n",
                        "    NE     ZG    2261.055    1.0   -7107.535  11629.6451  False\n",
                        "    NE     ZH   7407.3884 0.0102    786.2496  14028.5271   True\n",
                        "    NW     OW   -668.0952    1.0 -15755.9202  14419.7297  False\n",
                        "    NW     SG   1477.2852    1.0 -10972.2961  13926.8665  False\n",
                        "    NW     SH   4416.0714    1.0  -15143.218  23975.3609  False\n",
                        "    NW     SO   2216.4209    1.0  -10842.211  15275.0527  False\n",
                        "    NW     SZ       426.0    1.0 -12760.8703  13612.8703  False\n",
                        "    NW     TG   -551.4942    1.0 -12955.9064   11852.918  False\n",
                        "    NW     TI   1094.3067    1.0 -11857.7637  14046.3771  False\n",
                        "    NW     UR   -579.4286    1.0 -15957.8298  14798.9727  False\n",
                        "    NW     VD    564.8585    1.0 -11527.4074  12657.1245  False\n",
                        "    NW     VS    157.0419    1.0 -12325.2904  12639.3742  False\n",
                        "    NW     ZG   2435.9223    1.0 -11361.4569  16233.3015  False\n",
                        "    NW     ZH   7582.2556 0.8352  -4518.8464  19683.3577  False\n",
                        "    OW     SG   2145.3804    1.0  -8072.4893  12363.2501  False\n",
                        "    OW     SH   5084.1667    1.0  -13136.113  23304.4463  False\n",
                        "    OW     SO   2884.5161    1.0  -8067.2258  13836.2581  False\n",
                        "    OW     SZ   1094.0952    1.0 -10010.2433  12198.4337  False\n",
                        "    OW     TG     116.601    1.0 -10046.1854  10279.3874  False\n",
                        "    OW     TI    1762.402    1.0  -9062.0571   12586.861  False\n",
                        "    OW     UR     88.6667    1.0 -13546.1421  13723.4755  False\n",
                        "    OW     VD   1232.9538    1.0   -8546.396  11012.3035  False\n",
                        "    OW     VS    825.1371    1.0  -9432.6114  11082.8857  False\n",
                        "    OW     ZG   3104.0175    1.0  -8718.8611  14926.8962  False\n",
                        "    OW     ZH   8250.3509 0.2565  -1539.9228  18040.6245  False\n",
                        "    SG     SH   2938.7862    1.0 -13164.8843  19042.4567  False\n",
                        "    SG     SO    739.1357    1.0  -6137.6561   7615.9275  False\n",
                        "    SG     SZ  -1051.2852    1.0  -8168.5843   6066.0139  False\n",
                        "    SG     TG  -2028.7794 0.9998  -7563.3834   3505.8245  False\n",
                        "    SG     TI   -382.9785    1.0   -7055.199   6289.2421  False\n",
                        "    SG     UR  -2056.7138    1.0 -12698.9703   8585.5427  False\n",
                        "    SG     VD   -912.4267    1.0  -5706.7248   3881.8714  False\n",
                        "    SG     VS  -1320.2433    1.0  -7027.3457   4386.8591  False\n",
                        "    SG     ZG    958.6371    1.0  -7234.6572   9151.9314  False\n",
                        "    SG     ZH   6104.9704  0.001   1288.4291  10921.5118   True\n",
                        "    SH     SO  -2199.6505    1.0 -18778.6733  14379.3722  False\n",
                        "    SH     SZ  -3990.0714    1.0 -20670.2895  12690.1467  False\n",
                        "    SH     TG  -4967.5657    1.0 -21036.3419  11101.2106  False\n",
                        "    SH     TI  -3321.7647    1.0 -19816.9839  13173.4545  False\n",
                        "    SH     UR     -4995.5    1.0 -23457.1184  13466.1184  False\n",
                        "    SH     VD  -3851.2129    1.0 -19680.2692  11977.8434  False\n",
                        "    SH     VS  -4259.0295    1.0 -20388.0328  11869.9738  False\n",
                        "    SH     ZG  -1980.1491    1.0 -19147.0883  15186.7901  False\n",
                        "    SH     ZH   3166.1842    1.0 -12669.6233  19001.9917  False\n",
                        "    SO     SZ  -1790.4209    1.0  -9926.2514   6345.4096  False\n",
                        "    SO     TG  -2767.9151 0.9991  -9562.5919   4026.7616  False\n",
                        "    SO     TI  -1122.1142    1.0  -8871.5863    6627.358  False\n",
                        "    SO     UR  -2795.8495    1.0 -14144.5681   8552.8692  False\n",
                        "    SO     VD  -1651.5624    1.0  -7858.0981   4554.9733  False\n",
                        "    SO     VS   -2059.379    1.0  -8995.2862   4876.5282  False\n",
                        "    SO     ZG    219.5014    1.0  -8872.5755   9311.5783  False\n",
                        "    SO     ZH   5365.8347 0.2165    -857.899  11589.5685  False\n",
                        "    SZ     TG   -977.4942    1.0   -8015.485   6060.4965  False\n",
                        "    SZ     TI    668.3067    1.0  -7295.3608   8631.9742  False\n",
                        "    SZ     UR  -1005.4286    1.0 -12501.4755  10490.6184  False\n",
                        "    SZ     VD    138.8585    1.0  -6333.1401   6610.8572  False\n",
                        "    SZ     VS   -268.9581    1.0  -7443.3912    6905.475  False\n",
                        "    SZ     ZG   2009.9223    1.0  -7265.3968  11285.2414  False\n",
                        "    SZ     ZH   7156.2556 0.0128    667.7625  13644.7488   True\n",
                        "    TG     TI    1645.801    1.0  -4941.7551    8233.357  False\n",
                        "    TG     UR    -27.9343    1.0 -10617.3154  10561.4467  False\n",
                        "    TG     VD   1116.3528    1.0  -3559.3997   5792.1053  False\n",
                        "    TG     VS    708.5361    1.0  -4899.3498   6316.4221  False\n",
                        "    TG     ZG   2987.4165 0.9998  -5137.0797  11111.9128  False\n",
                        "    TG     ZH   8133.7499    0.0   3435.1929  12832.3068   True\n",
                        "    TI     UR  -1673.7353    1.0  -12899.673   9552.2024  False\n",
                        "    TI     VD   -529.4482    1.0   -6508.524   5449.6276  False\n",
                        "    TI     VS   -937.2648    1.0  -7670.3971   5795.8675  False\n",
                        "    TI     ZG   1341.6156    1.0  -7596.7358   10279.967  False\n",
                        "    TI     ZH   6487.9489 0.0172    491.0227  12484.8751   True\n",
                        "    UR     VD   1144.2871    1.0  -9077.6718   11366.246  False\n",
                        "    UR     VS    736.4705    1.0  -9944.0804  11417.0214  False\n",
                        "    UR     ZG   3015.3509    1.0  -9176.1717  15206.8734  False\n",
                        "    UR     ZH   8161.6842 0.3655  -2070.7261  18394.0945  False\n",
                        "    VD     VS   -407.8166    1.0  -5286.5294   4470.8961  False\n",
                        "    VD     ZG   1871.0638    1.0  -5768.3663   9510.4939  False\n",
                        "    VD     ZH   7017.3971    0.0   3218.7275  10816.0667   True\n",
                        "    VS     ZG   2278.8804    1.0  -5964.0933  10521.8541  False\n",
                        "    VS     ZH   7425.2137    0.0   2524.6409  12325.7866   True\n",
                        "    ZG     ZH   5146.3333 0.7247  -2507.0756  12799.7423  False\n",
                        "---------------------------------------------------------------\n"
                    ]
                }
            ],
            "source": [
                "# Install statsmodels if not already installed\n",
                "%pip install statsmodels\n",
                "\n",
                "from statsmodels.stats.multicomp import pairwise_tukeyhsd\n",
                "# Prepare data for Tukey\n",
                "dtv_data = df[['Kanton','DTV']].dropna()\n",
                "tukey = pairwise_tukeyhsd(endog=dtv_data['DTV'], groups=dtv_data['Kanton'], alpha=0.05)\n",
                "print(tukey)"
            ]
        },
        {
            "cell_type": "markdown",
            "metadata": {},
            "source": [
                "## 5. Correlation Analyses\n",
                "### 5.1 Correlation between DTV and DWV\n",
                "We hypothesize DTV (average daily traffic) and DWV (average workday traffic) might be strongly correlated."
            ]
        },
        {
            "cell_type": "code",
            "execution_count": 33,
            "metadata": {},
            "outputs": [
                {
                    "name": "stdout",
                    "output_type": "stream",
                    "text": [
                        "--- Pearson Correlation: DTV vs DWV ---\n",
                        "Correlation Coefficient = 0.9992680623218131\n",
                        "p-value = 0.0\n",
                        "Conclusion: p-value < 0.05 => Significant correlation.\n"
                    ]
                }
            ],
            "source": [
                "corr_coeff, corr_pval = pearsonr(df['DTV'], df['DWV'])\n",
                "print(\"--- Pearson Correlation: DTV vs DWV ---\")\n",
                "print(\"Correlation Coefficient =\", corr_coeff)\n",
                "print(\"p-value =\", corr_pval)\n",
                "\n",
                "if corr_pval < 0.05:\n",
                "    print(\"Conclusion: p-value < 0.05 => Significant correlation.\")\n",
                "else:\n",
                "    print(\"Conclusion: p-value >= 0.05 => Not significant.\")"
            ]
        },
        {
            "cell_type": "markdown",
            "metadata": {},
            "source": [
                "### 5.2 Correlation between DTV and DNWV"
            ]
        },
        {
            "cell_type": "code",
            "execution_count": 34,
            "metadata": {},
            "outputs": [
                {
                    "name": "stdout",
                    "output_type": "stream",
                    "text": [
                        "\n",
                        "--- Pearson Correlation: DTV vs DNWV ---\n",
                        "Correlation Coefficient = 0.9934791778484287\n",
                        "p-value = 0.0\n",
                        "Conclusion: p-value < 0.05 => Significant correlation.\n"
                    ]
                }
            ],
            "source": [
                "corr_coeff_dnwv, corr_pval_dnwv = pearsonr(df['DTV'], df['DNWV'])\n",
                "print(\"\\n--- Pearson Correlation: DTV vs DNWV ---\")\n",
                "print(\"Correlation Coefficient =\", corr_coeff_dnwv)\n",
                "print(\"p-value =\", corr_pval_dnwv)\n",
                "\n",
                "if corr_pval_dnwv < 0.05:\n",
                "    print(\"Conclusion: p-value < 0.05 => Significant correlation.\")\n",
                "else:\n",
                "    print(\"Conclusion: p-value >= 0.05 => Not significant.\")"
            ]
        },
        {
            "cell_type": "markdown",
            "metadata": {},
            "source": [
                "### 5.3 Correlation between DWV and DNWV"
            ]
        },
        {
            "cell_type": "code",
            "execution_count": 35,
            "metadata": {},
            "outputs": [
                {
                    "name": "stdout",
                    "output_type": "stream",
                    "text": [
                        "\n",
                        "--- Pearson Correlation: DWV vs DNWV ---\n",
                        "Correlation Coefficient = 0.9884006131194009\n",
                        "p-value = 0.0\n",
                        "Conclusion: p-value < 0.05 => Significant correlation.\n"
                    ]
                }
            ],
            "source": [
                "corr_coeff_wv_nwv, corr_pval_wv_nwv = pearsonr(df['DWV'], df['DNWV'])\n",
                "print(\"\\n--- Pearson Correlation: DWV vs DNWV ---\")\n",
                "print(\"Correlation Coefficient =\", corr_coeff_wv_nwv)\n",
                "print(\"p-value =\", corr_pval_wv_nwv)\n",
                "\n",
                "if corr_pval_wv_nwv < 0.05:\n",
                "    print(\"Conclusion: p-value < 0.05 => Significant correlation.\")\n",
                "else:\n",
                "    print(\"Conclusion: p-value >= 0.05 => Not significant.\")"
            ]
        },
        {
            "cell_type": "markdown",
            "metadata": {},
            "source": [
                "### 5.4 Correlation Matrix & Heatmap\n",
                "A quick overview of correlations among `DTV`, `DWV`, and `DNWV`."
            ]
        },
        {
            "cell_type": "code",
            "execution_count": 36,
            "metadata": {},
            "outputs": [
                {
                    "name": "stdout",
                    "output_type": "stream",
                    "text": [
                        "\n",
                        "Correlation Matrix:\n",
                        "           DTV       DWV      DNWV\n",
                        "DTV   1.000000  0.999268  0.993479\n",
                        "DWV   0.999268  1.000000  0.988401\n",
                        "DNWV  0.993479  0.988401  1.000000\n"
                    ]
                },
                {
                    "data": {
                        "image/png": "[encoded data removed]",
                        "text/plain": [
                            "<Figure size 500x400 with 2 Axes>"
                        ]
                    },
                    "metadata": {},
                    "output_type": "display_data"
                }
            ],
            "source": [
                "num_cols = ['DTV','DWV','DNWV']\n",
                "corr_matrix = df[num_cols].corr(method='pearson')\n",
                "print(\"\\nCorrelation Matrix:\")\n",
                "print(corr_matrix)\n",
                "\n",
                "plt.figure(figsize=(5,4))\n",
                "sns.heatmap(corr_matrix, annot=True, cmap='coolwarm', fmt='.2f')\n",
                "plt.title('Correlation Heatmap: DTV, DWV, DNWV')\n",
                "plt.tight_layout()\n",
                "plt.show()"
            ]
        },
        {
            "cell_type": "markdown",
            "metadata": {},
            "source": [
                "## 6. Additional Insights / Handling Outliers\n",
                "\n",
                "Given the extreme skew in `DTV`, you might:\n",
                "1. Use **log-scale** in your plots.\n",
                "2. **Cap** or **clip** outliers above a certain percentile (e.g., 99th).\n",
                "3. Investigate large stations individually.\n",
                "\n",
                "Below is an example of **clipping** at the 99th percentile, then re-plotting the distribution to see the core data more clearly."
            ]
        },
        {
            "cell_type": "code",
            "execution_count": 37,
            "metadata": {},
            "outputs": [
                {
                    "data": {
                        "image/png": "[encoded data removed]",
                        "text/plain": [
                            "<Figure size 800x500 with 1 Axes>"
                        ]
                    },
                    "metadata": {},
                    "output_type": "display_data"
                },
                {
                    "name": "stdout",
                    "output_type": "stream",
                    "text": [
                        "Clipped at 99th percentile of DTV: 46565.00\n",
                        "Shape before clipping: (3470, 12) Shape after clipping: (3435, 12)\n"
                    ]
                }
            ],
            "source": [
                "import numpy as np\n",
                "pct_99 = np.percentile(df['DTV'], 99)\n",
                "df_clipped = df[df['DTV'] <= pct_99]\n",
                "\n",
                "plt.figure(figsize=(8,5))\n",
                "sns.histplot(data=df_clipped, x='DTV', kde=True, color='red')\n",
                "plt.title('Distribution of DTV (Clipped at 99th Percentile)')\n",
                "plt.xlabel('DTV (clipped)')\n",
                "plt.ylabel('Count')\n",
                "plt.tight_layout()\n",
                "plt.show()\n",
                "\n",
                "print(f\"Clipped at 99th percentile of DTV: {pct_99:.2f}\")\n",
                "print(\"Shape before clipping:\", df.shape, \"Shape after clipping:\", df_clipped.shape)"
            ]
        },
        {
            "cell_type": "markdown",
            "metadata": {},
            "source": [
                "## 7. Summary of Findings & Next Steps\n",
                "\n",
                "1. **Data Cleaning**:\n",
                "   - We removed rows missing critical columns.\n",
                "   - Confirmed heavy skew in DTV.\n",
                "2. **Descriptive Statistics**:\n",
                "   - Many stations have lower traffic, few have extremely high traffic.\n",
                "   - Distribution is highly skewed.\n",
                "3. **Chi-Squared**:\n",
                "   - We tested whether there's an association between `Kanton` and `EVU`.\n",
                "   - If p-value < 0.05, there's a significant association.\n",
                "4. **ANOVA** (DTV by Kanton):\n",
                "   - We tested if at least one canton differs in mean DTV.\n",
                "   - If p-value < 0.05, investigate further (e.g., Tukey’s HSD).\n",
                "5. **Correlation**:\n",
                "   - We checked how `DTV` relates to `DWV` and `DNWV`.\n",
                "\n",
                "### Possible Next Steps\n",
                "- **Filter by Year** (e.g., compare 2022 vs. 2023).\n",
                "- **Investigate EVU** differences in traffic.\n",
                "- **Geospatial Analysis**: Plot stations on a map (with `lon` & `lat`) colored by traffic volume. Libraries like `folium` or `geopandas` are handy.\n",
                "- **Regression Models**: Predict DTV based on location, operator, or other features.\n",
                "\n",
                "## End of Notebook\n",
                "We hope this provides a **great in-depth** starting point for your Swiss train station dataset analysis!"
            ]
        }
    ],
    "metadata": {
        "kernelspec": {
            "display_name": "Python 3",
            "language": "python",
            "name": "python3"
        },
        "language_info": {
            "codemirror_mode": {
                "name": "ipython",
                "version": 3
            },
            "file_extension": ".py",
            "mimetype": "text/x-python",
            "name": "python",
            "nbconvert_exporter": "python",
            "pygments_lexer": "ipython3",
            "version": "3.10.7"
        }
    },
    "nbformat": 4,
    "nbformat_minor": 4
}
