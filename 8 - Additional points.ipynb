{
 "cells": [
  {
   "cell_type": "code",
   "execution_count": 3,
   "metadata": {},
   "outputs": [
    {
     "name": "stdout",
     "output_type": "stream",
     "text": [
      "Interactive map saved as 'station_traffic_map.html'. Open it in a browser to view.\n",
      "Map Visualization:\n",
      "- Green markers represent stations with high DWV/DNWV ratios (>1.5).\n",
      "- Blue markers represent stations with low DWV/DNWV ratios (≤1.5).\n",
      "- Open 'station_traffic_map.html' in a browser to explore the geographical distribution of traffic patterns.\n"
     ]
    }
   ],
   "source": [
    "import pandas as pd\n",
    "import folium\n",
    "\n",
    "# Load the dataset\n",
    "data_path = 'data_prepared.csv'  # Replace with your actual CSV path\n",
    "data = pd.read_csv(data_path)\n",
    "\n",
    "# Preprocess the data\n",
    "# Convert relevant columns to numeric if needed\n",
    "for col in ['DWV', 'DNWV', 'lon', 'lat']:\n",
    "    data[col] = pd.to_numeric(data[col], errors='coerce')\n",
    "\n",
    "# Drop rows with NaN values in relevant columns\n",
    "data = data.dropna(subset=['DWV', 'DNWV', 'lon', 'lat'])\n",
    "\n",
    "# Feature Engineering: Calculate DWV/DNWV ratio\n",
    "data['DWV_DNWV_Ratio'] = data['DWV'] / data['DNWV']\n",
    "\n",
    "# Add a classification column: High weekday traffic ratio > 1.5\n",
    "bins = [0, 1.5, float('inf')]\n",
    "labels = [\"Low\", \"High\"]\n",
    "data['Traffic_Ratio_Class'] = pd.cut(data['DWV_DNWV_Ratio'], bins=bins, labels=labels)\n",
    "\n",
    "# New Creative Element: Visualize High vs. Low Ratios on a Map\n",
    "# Create a map using Folium\n",
    "station_map = folium.Map(location=[data['lat'].mean(), data['lon'].mean()], zoom_start=8)\n",
    "\n",
    "# Add stations as markers\n",
    "for _, row in data.iterrows():\n",
    "    color = 'green' if row['Traffic_Ratio_Class'] == \"High\" else 'blue'\n",
    "    popup = f\"Station: {row['Code']}<br>DWV/DNWV Ratio: {row['DWV_DNWV_Ratio']:.2f}\"\n",
    "    folium.CircleMarker(\n",
    "        location=[row['lat'], row['lon']],\n",
    "        radius=5,\n",
    "        color=color,\n",
    "        fill=True,\n",
    "        fill_color=color,\n",
    "        popup=popup\n",
    "    ).add_to(station_map)\n",
    "\n",
    "# Save the map\n",
    "station_map.save('station_traffic_map.html')\n",
    "print(\"Interactive map saved as 'station_traffic_map.html'. Open it in a browser to view.\")\n",
    "\n",
    "# Key Observations\n",
    "print(\"Map Visualization:\")\n",
    "print(\"- Green markers represent stations with high DWV/DNWV ratios (>1.5).\")\n",
    "print(\"- Blue markers represent stations with low DWV/DNWV ratios (≤1.5).\")\n",
    "print(\"- Open 'station_traffic_map.html' in a browser to explore the geographical distribution of traffic patterns.\")\n"
   ]
  }
 ],
 "metadata": {
  "kernelspec": {
   "display_name": "Python (my_venv)",
   "language": "python",
   "name": "my_venv"
  },
  "language_info": {
   "codemirror_mode": {
    "name": "ipython",
    "version": 3
   },
   "file_extension": ".py",
   "mimetype": "text/x-python",
   "name": "python",
   "nbconvert_exporter": "python",
   "pygments_lexer": "ipython3",
   "version": "3.10.7"
  }
 },
 "nbformat": 4,
 "nbformat_minor": 2
}
