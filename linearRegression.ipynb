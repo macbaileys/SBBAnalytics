{
 "cells": [
  {
   "cell_type": "markdown",
   "id": "1e84aff8",
   "metadata": {},
   "source": [
    "# Linear regression"
   ]
  },
  {
   "cell_type": "markdown",
   "id": "d9ca506b",
   "metadata": {},
   "source": [
    "## Libraries and settings"
   ]
  },
  {
   "cell_type": "code",
   "execution_count": 1,
   "id": "3cc498a3",
   "metadata": {},
   "outputs": [
    {
     "name": "stdout",
     "output_type": "stream",
     "text": [
      "c:\\Users\\lukas\\OneDrive\\Prototyping\\SBBAnalytics\\SBBAnalytics\n"
     ]
    }
   ],
   "source": [
    "# Libraries\n",
    "import os\n",
    "import numpy as np\n",
    "import pandas as pd\n",
    "import scipy.stats as stats\n",
    "import statsmodels.api as sm\n",
    "import matplotlib.pyplot as plt\n",
    "from sklearn import linear_model\n",
    "from sklearn.model_selection import train_test_split\n",
    "\n",
    "# Ignore warnings\n",
    "import warnings\n",
    "warnings.filterwarnings('ignore')\n",
    "\n",
    "# Show current working directory\n",
    "print(os.getcwd())"
   ]
  },
  {
   "cell_type": "markdown",
   "id": "514d3419",
   "metadata": {},
   "source": [
    "## Import the Passagierfrequenz data"
   ]
  },
  {
   "cell_type": "code",
   "execution_count": 9,
   "id": "fc8846ed",
   "metadata": {},
   "outputs": [
    {
     "name": "stdout",
     "output_type": "stream",
     "text": [
      "(1225, 5)\n"
     ]
    },
    {
     "data": {
      "text/html": [
       "<div>\n",
       "<style scoped>\n",
       "    .dataframe tbody tr th:only-of-type {\n",
       "        vertical-align: middle;\n",
       "    }\n",
       "\n",
       "    .dataframe tbody tr th {\n",
       "        vertical-align: top;\n",
       "    }\n",
       "\n",
       "    .dataframe thead th {\n",
       "        text-align: right;\n",
       "    }\n",
       "</style>\n",
       "<table border=\"1\" class=\"dataframe\">\n",
       "  <thead>\n",
       "    <tr style=\"text-align: right;\">\n",
       "      <th></th>\n",
       "      <th>station_id</th>\n",
       "      <th>Bahnhof</th>\n",
       "      <th>Kanton</th>\n",
       "      <th>Jahr</th>\n",
       "      <th>DTV</th>\n",
       "    </tr>\n",
       "  </thead>\n",
       "  <tbody>\n",
       "    <tr>\n",
       "      <th>4</th>\n",
       "      <td>ABO</td>\n",
       "      <td>Aarburg-Oftringen</td>\n",
       "      <td>AG</td>\n",
       "      <td>2022</td>\n",
       "      <td>2500</td>\n",
       "    </tr>\n",
       "    <tr>\n",
       "      <th>10</th>\n",
       "      <td>ALT</td>\n",
       "      <td>Altstätten SG</td>\n",
       "      <td>SG</td>\n",
       "      <td>2023</td>\n",
       "      <td>4300</td>\n",
       "    </tr>\n",
       "    <tr>\n",
       "      <th>11</th>\n",
       "      <td>AND</td>\n",
       "      <td>Andermatt</td>\n",
       "      <td>UR</td>\n",
       "      <td>2018</td>\n",
       "      <td>2700</td>\n",
       "    </tr>\n",
       "    <tr>\n",
       "      <th>12</th>\n",
       "      <td>ARB</td>\n",
       "      <td>Arbon</td>\n",
       "      <td>TG</td>\n",
       "      <td>2018</td>\n",
       "      <td>1700</td>\n",
       "    </tr>\n",
       "    <tr>\n",
       "      <th>16</th>\n",
       "      <td>AU</td>\n",
       "      <td>Au ZH</td>\n",
       "      <td>ZH</td>\n",
       "      <td>2023</td>\n",
       "      <td>1100</td>\n",
       "    </tr>\n",
       "  </tbody>\n",
       "</table>\n",
       "</div>"
      ],
      "text/plain": [
       "   station_id            Bahnhof Kanton  Jahr   DTV\n",
       "4         ABO  Aarburg-Oftringen     AG  2022  2500\n",
       "10        ALT      Altstätten SG     SG  2023  4300\n",
       "11        AND          Andermatt     UR  2018  2700\n",
       "12        ARB              Arbon     TG  2018  1700\n",
       "16         AU              Au ZH     ZH  2023  1100"
      ]
     },
     "execution_count": 9,
     "metadata": {},
     "output_type": "execute_result"
    }
   ],
   "source": [
    "import pandas as pd\n",
    "\n",
    "columns = ['Code', \n",
    "           'Bahnhof', \n",
    "           'Kanton', \n",
    "           'Jahr', \n",
    "           'DTV']\n",
    "\n",
    "# Lese die Datei und wähle die relevanten Variablen aus\n",
    "df_orig = pd.read_csv(\"data_prepared.csv\", \n",
    "                      sep=\",\", \n",
    "                      encoding=\"utf-8\")[columns]\n",
    "\n",
    "# Benenne die Spalte 'Code' um in 'station_id'\n",
    "df_orig = df_orig.rename(columns={'Code': 'station_id'})\n",
    "\n",
    "# Entferne fehlende Werte\n",
    "df = df_orig.dropna()\n",
    "\n",
    "# Entferne Duplikate\n",
    "df = df.drop_duplicates()\n",
    "\n",
    "# Filtere nur Einträge mit einem Verkehrswert zwischen 1.000 und 50.000\n",
    "df = df.loc[(df['DTV'] >= 1000) & \n",
    "            (df['DTV'] <= 50000)]\n",
    "\n",
    "# Zeige die Form und die ersten 5 Zeilen des bereinigten DataFrames\n",
    "print(df.shape)\n",
    "df.head(5)"
   ]
  },
  {
   "cell_type": "markdown",
   "id": "e43dabac",
   "metadata": {},
   "source": [
    "## Simple linear regression (only one explanatory variable in the model)\n",
    "For details see: https://docs.scipy.org/doc/scipy/reference/generated/scipy.stats.linregress.html"
   ]
  },
  {
   "cell_type": "markdown",
   "id": "f2ba09cd",
   "metadata": {},
   "source": [
    "### Create train and test samples (train = 80%, test = 20% of the data)"
   ]
  },
  {
   "cell_type": "code",
   "execution_count": 10,
   "id": "4c9df95f",
   "metadata": {},
   "outputs": [
    {
     "name": "stdout",
     "output_type": "stream",
     "text": [
      "X_train:\n",
      "     station_id            Bahnhof Kanton  Jahr\n",
      "1032        LIT             Littau     LU  2018\n",
      "869         EBR        Emmenbrücke     LU  2018\n",
      "3115        KLO     Klosters Platz     GR  2022\n",
      "31         BDFS  Burgdorf Steinhof     BE  2023\n",
      "1486        BSC         Bassecourt     JU  2023 \n",
      "\n",
      "y_train:\n",
      "1032    1000\n",
      "869     4800\n",
      "3115    2800\n",
      "31      1500\n",
      "1486    1300\n",
      "Name: DTV, dtype: int64\n"
     ]
    }
   ],
   "source": [
    "# Create train and test samples\n",
    "X_train, X_test, y_train, y_test = train_test_split(df[['station_id', 'Bahnhof', 'Kanton', 'Jahr']], \n",
    "                                                    df['DTV'], \n",
    "                                                    test_size=0.20, \n",
    "                                                    random_state=42)\n",
    "\n",
    "# Show X_train\n",
    "print('X_train:')\n",
    "print(X_train.head(), '\\n')\n",
    "\n",
    "# Show y_train\n",
    "print('y_train:')\n",
    "print(y_train.head())"
   ]
  },
  {
   "cell_type": "markdown",
   "id": "f32a7699",
   "metadata": {},
   "source": [
    "### Fit the simple linear regression model"
   ]
  },
  {
   "cell_type": "code",
   "execution_count": 11,
   "id": "6f0d41b6",
   "metadata": {},
   "outputs": [
    {
     "name": "stdout",
     "output_type": "stream",
     "text": [
      "Linear regression result:\n",
      "Intercept with y-axis (alpha):            -102860.24\n",
      "Slope of regression line (beta):          53.467\n",
      "p-value:                                  0.6032\n",
      "R-squared (coefficient of determination): 0.0003\n"
     ]
    }
   ],
   "source": [
    "# Fit the regression model\n",
    "slope, intercept, r, p, std_err = stats.linregress(X_train['Jahr'], y_train)\n",
    "\n",
    "# Print results of the regression model\n",
    "print('Linear regression result:')\n",
    "print(f'Intercept with y-axis (alpha):            {intercept:.2f}')\n",
    "print(f'Slope of regression line (beta):          {slope:.3f}')\n",
    "print(f'p-value:                                  {p:.4f}')\n",
    "print(f'R-squared (coefficient of determination): {r**2:.4f}')"
   ]
  },
  {
   "cell_type": "markdown",
   "id": "473eaddb",
   "metadata": {},
   "source": [
    "### Plot regression line"
   ]
  },
  {
   "cell_type": "code",
   "execution_count": 12,
   "id": "c90bf7d9",
   "metadata": {},
   "outputs": [
    {
     "data": {
      "image/png": "[encoded data removed]",
      "text/plain": [
       "<Figure size 600x400 with 1 Axes>"
      ]
     },
     "metadata": {},
     "output_type": "display_data"
    }
   ],
   "source": [
    "# Function to calculate model predictions\n",
    "def myfunc(x):\n",
    "    return slope * x + intercept\n",
    "\n",
    "# Apply myfunc() to x, i.e. make predictions \n",
    "mymodel = pd.Series(map(myfunc, X_train['Jahr']))\n",
    "\n",
    "# Scatterplot with regression line\n",
    "plt.figure(figsize=(6,4))\n",
    "plt.scatter(X_train['Jahr'], y_train, s=10, color='green')\n",
    "plt.plot(X_train['Jahr'], mymodel, color='darkred', linestyle='dashed')\n",
    "plt.title('Simple Linear Regression')\n",
    "plt.xlabel('Year')\n",
    "plt.ylabel('DTV')\n",
    "\n",
    "plt.show()"
   ]
  },
  {
   "cell_type": "markdown",
   "id": "b3468eec",
   "metadata": {},
   "source": [
    "### Jupyter notebook --footer info-- (please always provide this at the end of each submitted notebook)"
   ]
  },
  {
   "cell_type": "code",
   "execution_count": null,
   "id": "64f26a9e",
   "metadata": {},
   "outputs": [],
   "source": [
    "import os\n",
    "import platform\n",
    "import socket\n",
    "from platform import python_version\n",
    "from datetime import datetime\n",
    "\n",
    "print('-----------------------------------')\n",
    "print(os.name.upper())\n",
    "print(platform.system(), '|', platform.release())\n",
    "print('Datetime:', datetime.now().strftime(\"%Y-%m-%d %H:%M:%S\"))\n",
    "print('Python Version:', python_version())\n",
    "print('-----------------------------------')"
   ]
  }
 ],
 "metadata": {
  "kernelspec": {
   "display_name": "base",
   "language": "python",
   "name": "python3"
  },
  "language_info": {
   "codemirror_mode": {
    "name": "ipython",
    "version": 3
   },
   "file_extension": ".py",
   "mimetype": "text/x-python",
   "name": "python",
   "nbconvert_exporter": "python",
   "pygments_lexer": "ipython3",
   "version": "3.11.5"
  }
 },
 "nbformat": 4,
 "nbformat_minor": 5
}
