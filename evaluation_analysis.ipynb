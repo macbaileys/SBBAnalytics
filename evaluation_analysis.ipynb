{
    "cells": [
        {
            "cell_type": "markdown",
            "metadata": {},
            "source": [
                "# Model Evaluation: Regression & Classification\n",
                "\n",
                "This notebook demonstrates **model evaluation** on a dataset of Swiss train stations, covering two scenarios:\n",
                "1. **Regression** (predicting a numeric target, e.g., `DTV`)\n",
                "2. **Classification** (predicting a binary label, e.g., High vs. Low traffic)\n",
                "\n",
                "We will use **scikit-learn** metrics:\n",
                "- **Regression**: R², MAE, RMSE\n",
                "- **Classification**: Accuracy, Precision, Recall, F1, Confusion Matrix\n",
                "\n",
                "## Contents\n",
                "1. **Setup** (imports)\n",
                "2. **Data Loading & Preparation**\n",
                "3. **Regression** Example\n",
                "4. **Classification** Example\n",
                "5. **Summary & Next Steps**\n"
            ]
        },
        {
            "cell_type": "code",
            "execution_count": 1,
            "metadata": {
                "collapsed": false
            },
            "outputs": [],
            "source": [
                "# 1) Setup\n",
                "import pandas as pd\n",
                "import numpy as np\n",
                "import matplotlib.pyplot as plt\n",
                "import seaborn as sns\n",
                "\n",
                "from sklearn.model_selection import train_test_split\n",
                "from sklearn.linear_model import LinearRegression, LogisticRegression\n",
                "from sklearn.metrics import (\n",
                "    r2_score, mean_absolute_error, mean_squared_error,\n",
                "    accuracy_score, precision_score, recall_score, f1_score,\n",
                "    confusion_matrix\n",
                ")\n",
                "\n",
                "# Optional: for inline plotting in Jupyter\n",
                "%matplotlib inline"
            ]
        },
        {
            "cell_type": "markdown",
            "metadata": {},
            "source": [
                "## 2. Data Loading & Preparation\n",
                "We assume you have a CSV named `stations.csv` containing columns like:\n",
                "- `DTV`, `DWV`, `DNWV` (numeric)\n",
                "- `Kanton`, `EVU` (categorical)\n",
                "- `lon`, `lat` (numeric)\n",
                "… and more.\n",
                "\n",
                "### 2.1 Load Data & Basic Cleaning"
            ]
        },
        {
            "cell_type": "code",
            "execution_count": 2,
            "metadata": {},
            "outputs": [
                {
                    "name": "stdout",
                    "output_type": "stream",
                    "text": [
                        "Data shape: (3470, 12)\n"
                    ]
                },
                {
                    "data": {
                        "text/html": [
                            "<div>\n",
                            "<style scoped>\n",
                            "    .dataframe tbody tr th:only-of-type {\n",
                            "        vertical-align: middle;\n",
                            "    }\n",
                            "\n",
                            "    .dataframe tbody tr th {\n",
                            "        vertical-align: top;\n",
                            "    }\n",
                            "\n",
                            "    .dataframe thead th {\n",
                            "        text-align: right;\n",
                            "    }\n",
                            "</style>\n",
                            "<table border=\"1\" class=\"dataframe\">\n",
                            "  <thead>\n",
                            "    <tr style=\"text-align: right;\">\n",
                            "      <th></th>\n",
                            "      <th>Code</th>\n",
                            "      <th>UIC</th>\n",
                            "      <th>Bahnhof</th>\n",
                            "      <th>Kanton</th>\n",
                            "      <th>ISB_GI</th>\n",
                            "      <th>Jahr</th>\n",
                            "      <th>DTV</th>\n",
                            "      <th>DWV</th>\n",
                            "      <th>DNWV</th>\n",
                            "      <th>EVU</th>\n",
                            "      <th>lon</th>\n",
                            "      <th>lat</th>\n",
                            "    </tr>\n",
                            "  </thead>\n",
                            "  <tbody>\n",
                            "    <tr>\n",
                            "      <th>0</th>\n",
                            "      <td>AAT</td>\n",
                            "      <td>8503124</td>\n",
                            "      <td>Aathal</td>\n",
                            "      <td>ZH</td>\n",
                            "      <td>SBB</td>\n",
                            "      <td>2018</td>\n",
                            "      <td>740</td>\n",
                            "      <td>800</td>\n",
                            "      <td>610</td>\n",
                            "      <td>SBB</td>\n",
                            "      <td>8.765625</td>\n",
                            "      <td>47.335959</td>\n",
                            "    </tr>\n",
                            "    <tr>\n",
                            "      <th>1</th>\n",
                            "      <td>AB</td>\n",
                            "      <td>8507472</td>\n",
                            "      <td>Ausserberg</td>\n",
                            "      <td>VS</td>\n",
                            "      <td>BLS</td>\n",
                            "      <td>2018</td>\n",
                            "      <td>180</td>\n",
                            "      <td>160</td>\n",
                            "      <td>210</td>\n",
                            "      <td>BLS</td>\n",
                            "      <td>7.844167</td>\n",
                            "      <td>46.312348</td>\n",
                            "    </tr>\n",
                            "    <tr>\n",
                            "      <th>2</th>\n",
                            "      <td>ABE</td>\n",
                            "      <td>8504404</td>\n",
                            "      <td>Aarberg</td>\n",
                            "      <td>BE</td>\n",
                            "      <td>SBB</td>\n",
                            "      <td>2022</td>\n",
                            "      <td>520</td>\n",
                            "      <td>580</td>\n",
                            "      <td>400</td>\n",
                            "      <td>BLS</td>\n",
                            "      <td>7.278693</td>\n",
                            "      <td>47.044541</td>\n",
                            "    </tr>\n",
                            "    <tr>\n",
                            "      <th>3</th>\n",
                            "      <td>ABE</td>\n",
                            "      <td>8504404</td>\n",
                            "      <td>Aarberg</td>\n",
                            "      <td>BE</td>\n",
                            "      <td>SBB</td>\n",
                            "      <td>2023</td>\n",
                            "      <td>580</td>\n",
                            "      <td>620</td>\n",
                            "      <td>460</td>\n",
                            "      <td>BLS</td>\n",
                            "      <td>7.278693</td>\n",
                            "      <td>47.044541</td>\n",
                            "    </tr>\n",
                            "    <tr>\n",
                            "      <th>4</th>\n",
                            "      <td>ABO</td>\n",
                            "      <td>8502000</td>\n",
                            "      <td>Aarburg-Oftringen</td>\n",
                            "      <td>AG</td>\n",
                            "      <td>SBB</td>\n",
                            "      <td>2022</td>\n",
                            "      <td>2500</td>\n",
                            "      <td>2900</td>\n",
                            "      <td>1500</td>\n",
                            "      <td>SBB</td>\n",
                            "      <td>7.908223</td>\n",
                            "      <td>47.320268</td>\n",
                            "    </tr>\n",
                            "  </tbody>\n",
                            "</table>\n",
                            "</div>"
                        ],
                        "text/plain": [
                            "  Code      UIC            Bahnhof Kanton ISB_GI  Jahr   DTV   DWV  DNWV  EVU  \\\n",
                            "0  AAT  8503124             Aathal     ZH    SBB  2018   740   800   610  SBB   \n",
                            "1   AB  8507472         Ausserberg     VS    BLS  2018   180   160   210  BLS   \n",
                            "2  ABE  8504404            Aarberg     BE    SBB  2022   520   580   400  BLS   \n",
                            "3  ABE  8504404            Aarberg     BE    SBB  2023   580   620   460  BLS   \n",
                            "4  ABO  8502000  Aarburg-Oftringen     AG    SBB  2022  2500  2900  1500  SBB   \n",
                            "\n",
                            "        lon        lat  \n",
                            "0  8.765625  47.335959  \n",
                            "1  7.844167  46.312348  \n",
                            "2  7.278693  47.044541  \n",
                            "3  7.278693  47.044541  \n",
                            "4  7.908223  47.320268  "
                        ]
                    },
                    "execution_count": 2,
                    "metadata": {},
                    "output_type": "execute_result"
                }
            ],
            "source": [
                "# Load your CSV file\n",
                "df = pd.read_csv(\"data_prepared.csv\")  # change if needed\n",
                "print(\"Data shape:\", df.shape)\n",
                "df.head()"
            ]
        },
        {
            "cell_type": "markdown",
            "metadata": {},
            "source": [
                "### 2.2 Drop Missing or Invalid Rows\n",
                "We'll keep only rows where `DTV`, `DWV`, `DNWV`, `Kanton`, `EVU`, `lon`, `lat` are valid."
            ]
        },
        {
            "cell_type": "code",
            "execution_count": 3,
            "metadata": {},
            "outputs": [
                {
                    "name": "stdout",
                    "output_type": "stream",
                    "text": [
                        "Data shape after cleaning: (3470, 12)\n"
                    ]
                }
            ],
            "source": [
                "required_cols = ['DTV','DWV','DNWV','Kanton','EVU','lon','lat']\n",
                "df.dropna(subset=required_cols, inplace=True)\n",
                "\n",
                "# Convert numeric columns\n",
                "num_cols = ['DTV','DWV','DNWV','lon','lat']\n",
                "for c in num_cols:\n",
                "    df[c] = pd.to_numeric(df[c], errors='coerce')\n",
                "\n",
                "df.dropna(subset=num_cols, inplace=True)\n",
                "print(\"Data shape after cleaning:\", df.shape)"
            ]
        },
        {
            "cell_type": "markdown",
            "metadata": {},
            "source": [
                "### 2.3 Encode Categorical Features\n",
                "We do one-hot encoding for `Kanton` and `EVU` so we can use them in scikit-learn."
            ]
        },
        {
            "cell_type": "code",
            "execution_count": 4,
            "metadata": {},
            "outputs": [
                {
                    "name": "stdout",
                    "output_type": "stream",
                    "text": [
                        "Encoded shape: (3470, 89)\n"
                    ]
                },
                {
                    "data": {
                        "text/html": [
                            "<div>\n",
                            "<style scoped>\n",
                            "    .dataframe tbody tr th:only-of-type {\n",
                            "        vertical-align: middle;\n",
                            "    }\n",
                            "\n",
                            "    .dataframe tbody tr th {\n",
                            "        vertical-align: top;\n",
                            "    }\n",
                            "\n",
                            "    .dataframe thead th {\n",
                            "        text-align: right;\n",
                            "    }\n",
                            "</style>\n",
                            "<table border=\"1\" class=\"dataframe\">\n",
                            "  <thead>\n",
                            "    <tr style=\"text-align: right;\">\n",
                            "      <th></th>\n",
                            "      <th>Code</th>\n",
                            "      <th>UIC</th>\n",
                            "      <th>Bahnhof</th>\n",
                            "      <th>ISB_GI</th>\n",
                            "      <th>Jahr</th>\n",
                            "      <th>DTV</th>\n",
                            "      <th>DWV</th>\n",
                            "      <th>DNWV</th>\n",
                            "      <th>lon</th>\n",
                            "      <th>lat</th>\n",
                            "      <th>...</th>\n",
                            "      <th>EVU_SBB, TPF</th>\n",
                            "      <th>EVU_SBB, TRAVYS</th>\n",
                            "      <th>EVU_SBB, Thurbo</th>\n",
                            "      <th>EVU_SBB, Trenord</th>\n",
                            "      <th>EVU_SBB, transN</th>\n",
                            "      <th>EVU_SOB</th>\n",
                            "      <th>EVU_SOB, Thurbo</th>\n",
                            "      <th>EVU_TRAVYS</th>\n",
                            "      <th>EVU_Thurbo</th>\n",
                            "      <th>EVU_Zentralbahn</th>\n",
                            "    </tr>\n",
                            "  </thead>\n",
                            "  <tbody>\n",
                            "    <tr>\n",
                            "      <th>0</th>\n",
                            "      <td>AAT</td>\n",
                            "      <td>8503124</td>\n",
                            "      <td>Aathal</td>\n",
                            "      <td>SBB</td>\n",
                            "      <td>2018</td>\n",
                            "      <td>740</td>\n",
                            "      <td>800</td>\n",
                            "      <td>610</td>\n",
                            "      <td>8.765625</td>\n",
                            "      <td>47.335959</td>\n",
                            "      <td>...</td>\n",
                            "      <td>False</td>\n",
                            "      <td>False</td>\n",
                            "      <td>False</td>\n",
                            "      <td>False</td>\n",
                            "      <td>False</td>\n",
                            "      <td>False</td>\n",
                            "      <td>False</td>\n",
                            "      <td>False</td>\n",
                            "      <td>False</td>\n",
                            "      <td>False</td>\n",
                            "    </tr>\n",
                            "    <tr>\n",
                            "      <th>1</th>\n",
                            "      <td>AB</td>\n",
                            "      <td>8507472</td>\n",
                            "      <td>Ausserberg</td>\n",
                            "      <td>BLS</td>\n",
                            "      <td>2018</td>\n",
                            "      <td>180</td>\n",
                            "      <td>160</td>\n",
                            "      <td>210</td>\n",
                            "      <td>7.844167</td>\n",
                            "      <td>46.312348</td>\n",
                            "      <td>...</td>\n",
                            "      <td>False</td>\n",
                            "      <td>False</td>\n",
                            "      <td>False</td>\n",
                            "      <td>False</td>\n",
                            "      <td>False</td>\n",
                            "      <td>False</td>\n",
                            "      <td>False</td>\n",
                            "      <td>False</td>\n",
                            "      <td>False</td>\n",
                            "      <td>False</td>\n",
                            "    </tr>\n",
                            "    <tr>\n",
                            "      <th>2</th>\n",
                            "      <td>ABE</td>\n",
                            "      <td>8504404</td>\n",
                            "      <td>Aarberg</td>\n",
                            "      <td>SBB</td>\n",
                            "      <td>2022</td>\n",
                            "      <td>520</td>\n",
                            "      <td>580</td>\n",
                            "      <td>400</td>\n",
                            "      <td>7.278693</td>\n",
                            "      <td>47.044541</td>\n",
                            "      <td>...</td>\n",
                            "      <td>False</td>\n",
                            "      <td>False</td>\n",
                            "      <td>False</td>\n",
                            "      <td>False</td>\n",
                            "      <td>False</td>\n",
                            "      <td>False</td>\n",
                            "      <td>False</td>\n",
                            "      <td>False</td>\n",
                            "      <td>False</td>\n",
                            "      <td>False</td>\n",
                            "    </tr>\n",
                            "    <tr>\n",
                            "      <th>3</th>\n",
                            "      <td>ABE</td>\n",
                            "      <td>8504404</td>\n",
                            "      <td>Aarberg</td>\n",
                            "      <td>SBB</td>\n",
                            "      <td>2023</td>\n",
                            "      <td>580</td>\n",
                            "      <td>620</td>\n",
                            "      <td>460</td>\n",
                            "      <td>7.278693</td>\n",
                            "      <td>47.044541</td>\n",
                            "      <td>...</td>\n",
                            "      <td>False</td>\n",
                            "      <td>False</td>\n",
                            "      <td>False</td>\n",
                            "      <td>False</td>\n",
                            "      <td>False</td>\n",
                            "      <td>False</td>\n",
                            "      <td>False</td>\n",
                            "      <td>False</td>\n",
                            "      <td>False</td>\n",
                            "      <td>False</td>\n",
                            "    </tr>\n",
                            "    <tr>\n",
                            "      <th>4</th>\n",
                            "      <td>ABO</td>\n",
                            "      <td>8502000</td>\n",
                            "      <td>Aarburg-Oftringen</td>\n",
                            "      <td>SBB</td>\n",
                            "      <td>2022</td>\n",
                            "      <td>2500</td>\n",
                            "      <td>2900</td>\n",
                            "      <td>1500</td>\n",
                            "      <td>7.908223</td>\n",
                            "      <td>47.320268</td>\n",
                            "      <td>...</td>\n",
                            "      <td>False</td>\n",
                            "      <td>False</td>\n",
                            "      <td>False</td>\n",
                            "      <td>False</td>\n",
                            "      <td>False</td>\n",
                            "      <td>False</td>\n",
                            "      <td>False</td>\n",
                            "      <td>False</td>\n",
                            "      <td>False</td>\n",
                            "      <td>False</td>\n",
                            "    </tr>\n",
                            "  </tbody>\n",
                            "</table>\n",
                            "<p>5 rows × 89 columns</p>\n",
                            "</div>"
                        ],
                        "text/plain": [
                            "  Code      UIC            Bahnhof ISB_GI  Jahr   DTV   DWV  DNWV       lon  \\\n",
                            "0  AAT  8503124             Aathal    SBB  2018   740   800   610  8.765625   \n",
                            "1   AB  8507472         Ausserberg    BLS  2018   180   160   210  7.844167   \n",
                            "2  ABE  8504404            Aarberg    SBB  2022   520   580   400  7.278693   \n",
                            "3  ABE  8504404            Aarberg    SBB  2023   580   620   460  7.278693   \n",
                            "4  ABO  8502000  Aarburg-Oftringen    SBB  2022  2500  2900  1500  7.908223   \n",
                            "\n",
                            "         lat  ...  EVU_SBB, TPF  EVU_SBB, TRAVYS  EVU_SBB, Thurbo  \\\n",
                            "0  47.335959  ...         False            False            False   \n",
                            "1  46.312348  ...         False            False            False   \n",
                            "2  47.044541  ...         False            False            False   \n",
                            "3  47.044541  ...         False            False            False   \n",
                            "4  47.320268  ...         False            False            False   \n",
                            "\n",
                            "   EVU_SBB, Trenord  EVU_SBB, transN  EVU_SOB  EVU_SOB, Thurbo  EVU_TRAVYS  \\\n",
                            "0             False            False    False            False       False   \n",
                            "1             False            False    False            False       False   \n",
                            "2             False            False    False            False       False   \n",
                            "3             False            False    False            False       False   \n",
                            "4             False            False    False            False       False   \n",
                            "\n",
                            "   EVU_Thurbo  EVU_Zentralbahn  \n",
                            "0       False            False  \n",
                            "1       False            False  \n",
                            "2       False            False  \n",
                            "3       False            False  \n",
                            "4       False            False  \n",
                            "\n",
                            "[5 rows x 89 columns]"
                        ]
                    },
                    "execution_count": 4,
                    "metadata": {},
                    "output_type": "execute_result"
                }
            ],
            "source": [
                "df_encoded = pd.get_dummies(df, columns=['Kanton','EVU'], drop_first=True)\n",
                "print(\"Encoded shape:\", df_encoded.shape)\n",
                "df_encoded.head()"
            ]
        },
        {
            "cell_type": "markdown",
            "metadata": {},
            "source": [
                "## 3. Regression Example\n",
                "We’ll predict the **numeric** target `DTV` from the available features. For simplicity, we’ll consider:\n",
                "- `DWV`, `DNWV`, `lon`, `lat` + one-hot columns for `Kanton` and `EVU`\n",
                "\n",
                "### 3.1 Train/Test Split\n",
                "We'll do a standard 80/20 split."
            ]
        },
        {
            "cell_type": "code",
            "execution_count": 5,
            "metadata": {},
            "outputs": [
                {
                    "name": "stdout",
                    "output_type": "stream",
                    "text": [
                        "Train set shape: (2776, 83) (2776,)\n",
                        "Test  set shape: (694, 83) (694,)\n"
                    ]
                }
            ],
            "source": [
                "target_col = 'DTV'\n",
                "exclude_cols = ['Code','UIC','Bahnhof','ISB_GI','Jahr','DTV']\n",
                "\n",
                "X_cols = [c for c in df_encoded.columns if c not in exclude_cols]\n",
                "X = df_encoded[X_cols].values\n",
                "y = df_encoded[target_col].values\n",
                "\n",
                "X_train, X_test, y_train, y_test = train_test_split(\n",
                "    X, y, test_size=0.2, random_state=42\n",
                ")\n",
                "\n",
                "print(\"Train set shape:\", X_train.shape, y_train.shape)\n",
                "print(\"Test  set shape:\", X_test.shape,  y_test.shape)"
            ]
        },
        {
            "cell_type": "markdown",
            "metadata": {},
            "source": [
                "### 3.2 Fit a Linear Regression"
            ]
        },
        {
            "cell_type": "code",
            "execution_count": 6,
            "metadata": {},
            "outputs": [
                {
                    "name": "stdout",
                    "output_type": "stream",
                    "text": [
                        "Model trained.\n"
                    ]
                }
            ],
            "source": [
                "reg_model = LinearRegression()\n",
                "reg_model.fit(X_train, y_train)\n",
                "\n",
                "y_pred = reg_model.predict(X_test)\n",
                "print(\"Model trained.\")"
            ]
        },
        {
            "cell_type": "markdown",
            "metadata": {},
            "source": [
                "### 3.3 Evaluate Regression\n",
                "- **R²** (coefficient of determination)\n",
                "- **MAE** (mean absolute error)\n",
                "- **RMSE** (root mean squared error)"
            ]
        },
        {
            "cell_type": "code",
            "execution_count": 7,
            "metadata": {},
            "outputs": [
                {
                    "name": "stdout",
                    "output_type": "stream",
                    "text": [
                        "Regression Metrics:\n",
                        "  R^2   = 1.000\n",
                        "  MAE   = 15.72\n",
                        "  RMSE  = 28.48\n"
                    ]
                }
            ],
            "source": [
                "r2 = r2_score(y_test, y_pred)\n",
                "mae = mean_absolute_error(y_test, y_pred)\n",
                "rmse = np.sqrt(mean_squared_error(y_test, y_pred))  # Calculate RMSE manually\n",
                "\n",
                "print(\"Regression Metrics:\")\n",
                "print(f\"  R^2   = {r2:.3f}\")\n",
                "print(f\"  MAE   = {mae:.2f}\")\n",
                "print(f\"  RMSE  = {rmse:.2f}\")"
            ]
        },
        {
            "cell_type": "markdown",
            "metadata": {},
            "source": [
                "### 3.4 Visualize Predicted vs Actual"
            ]
        },
        {
            "cell_type": "code",
            "execution_count": 8,
            "metadata": {},
            "outputs": [
                {
                    "data": {
                        "image/png": "[encoded data removed]",
                        "text/plain": [
                            "<Figure size 600x600 with 1 Axes>"
                        ]
                    },
                    "metadata": {},
                    "output_type": "display_data"
                }
            ],
            "source": [
                "plt.figure(figsize=(6,6))\n",
                "plt.scatter(y_test, y_pred, alpha=0.5)\n",
                "plt.plot([0, max(y_test)], [0, max(y_test)], '--r')\n",
                "plt.title(\"Predicted vs. Actual DTV\")\n",
                "plt.xlabel(\"Actual DTV\")\n",
                "plt.ylabel(\"Predicted DTV\")\n",
                "plt.xlim([0, max(y_test)*1.1])\n",
                "plt.ylim([0, max(y_pred)*1.1])\n",
                "plt.tight_layout()\n",
                "plt.show()"
            ]
        },
        {
            "cell_type": "markdown",
            "metadata": {},
            "source": [
                "## 4. Classification Example\n",
                "We'll create a **binary** target for “High Traffic” vs “Low Traffic,” e.g. stations with `DTV >= 1000` are **1** (high) else **0** (low).\n",
                "\n",
                "Then we use **Logistic Regression** (as a simple classifier) and evaluate with:\n",
                "- Accuracy\n",
                "- Precision\n",
                "- Recall\n",
                "- F1 score\n",
                "- Confusion matrix"
            ]
        },
        {
            "cell_type": "code",
            "execution_count": 9,
            "metadata": {},
            "outputs": [
                {
                    "name": "stdout",
                    "output_type": "stream",
                    "text": [
                        "Classification model trained.\n"
                    ]
                }
            ],
            "source": [
                "# Create binary target\n",
                "df_encoded['HighTraffic'] = (df_encoded['DTV'] >= 1000).astype(int)\n",
                "\n",
                "# We'll predict HighTraffic from the same set of features,\n",
                "# but exclude DTV itself.\n",
                "exclude_cols_clf = ['HighTraffic','DTV','Code','UIC','Bahnhof','ISB_GI','Jahr']\n",
                "X_cols_clf = [c for c in df_encoded.columns if c not in exclude_cols_clf]\n",
                "X_clf = df_encoded[X_cols_clf].values\n",
                "y_clf = df_encoded['HighTraffic'].values\n",
                "\n",
                "X_train_clf, X_test_clf, y_train_clf, y_test_clf = train_test_split(\n",
                "    X_clf, y_clf, test_size=0.2, random_state=42\n",
                ")\n",
                "\n",
                "clf_model = LogisticRegression(max_iter=1000)\n",
                "clf_model.fit(X_train_clf, y_train_clf)\n",
                "\n",
                "# Predict on test set\n",
                "y_pred_clf = clf_model.predict(X_test_clf)\n",
                "\n",
                "print(\"Classification model trained.\")"
            ]
        },
        {
            "cell_type": "markdown",
            "metadata": {},
            "source": [
                "### 4.1 Evaluate Classification\n",
                "- **Accuracy**: overall fraction of correct predictions\n",
                "- **Precision**: fraction of predicted positives that are correct\n",
                "- **Recall**: fraction of actual positives that are identified\n",
                "- **F1**: harmonic mean of precision and recall\n",
                "\n",
                "Finally, we plot the **confusion matrix** as a heatmap."
            ]
        },
        {
            "cell_type": "code",
            "execution_count": 10,
            "metadata": {},
            "outputs": [
                {
                    "name": "stdout",
                    "output_type": "stream",
                    "text": [
                        "Classification Metrics:\n",
                        "  Accuracy  = 0.993\n",
                        "  Precision = 0.992\n",
                        "  Recall    = 0.988\n",
                        "  F1 Score  = 0.990\n",
                        "\n",
                        "Confusion Matrix:\n",
                        "[[434   2]\n",
                        " [  3 255]]\n"
                    ]
                },
                {
                    "data": {
                        "image/png": "[encoded data removed]",
                        "text/plain": [
                            "<Figure size 500x400 with 2 Axes>"
                        ]
                    },
                    "metadata": {},
                    "output_type": "display_data"
                }
            ],
            "source": [
                "acc = accuracy_score(y_test_clf, y_pred_clf)\n",
                "prec = precision_score(y_test_clf, y_pred_clf, zero_division=0)\n",
                "rec = recall_score(y_test_clf, y_pred_clf, zero_division=0)\n",
                "f1 = f1_score(y_test_clf, y_pred_clf, zero_division=0)\n",
                "\n",
                "print(\"Classification Metrics:\")\n",
                "print(f\"  Accuracy  = {acc:.3f}\")\n",
                "print(f\"  Precision = {prec:.3f}\")\n",
                "print(f\"  Recall    = {rec:.3f}\")\n",
                "print(f\"  F1 Score  = {f1:.3f}\")\n",
                "\n",
                "cm = confusion_matrix(y_test_clf, y_pred_clf)\n",
                "print(\"\\nConfusion Matrix:\")\n",
                "print(cm)\n",
                "\n",
                "plt.figure(figsize=(5,4))\n",
                "sns.heatmap(cm, annot=True, fmt='d', cmap='Blues')\n",
                "plt.title(\"Confusion Matrix (HighTraffic vs. LowTraffic)\")\n",
                "plt.xlabel(\"Predicted\")\n",
                "plt.ylabel(\"Actual\")\n",
                "plt.show()"
            ]
        },
        {
            "cell_type": "markdown",
            "metadata": {},
            "source": [
                "## 5. Summary & Next Steps\n",
                "\n",
                "1. **Regression**\n",
                "   - We used **LinearRegression** to predict `DTV`.\n",
                "   - Evaluated with **R²**, **MAE**, **RMSE**, and a scatter plot.\n",
                "\n",
                "2. **Classification**\n",
                "   - We defined a binary label `HighTraffic`.\n",
                "   - Used **LogisticRegression** to classify stations.\n",
                "   - Evaluated with **accuracy**, **precision**, **recall**, **F1**, and a confusion matrix.\n",
                "\n",
                "### Possible Enhancements\n",
                "- **Cross-validation**: More robust performance estimates.\n",
                "- **Hyperparameter tuning**: `GridSearchCV` or `RandomizedSearchCV`.\n",
                "- **Alternative models**: Random Forest, Gradient Boosting, etc.\n",
                "- **Feature engineering**: More meaningful transformations of `DWV`, `DNWV`, location-based features, etc.\n",
                "- **Handling skew**: Log-transform `DTV` or set thresholds carefully.\n",
                "\n",
                "This completes our **model evaluation** demo!"
            ]
        }
    ],
    "metadata": {
        "kernelspec": {
            "display_name": ".venv",
            "language": "python",
            "name": "python3"
        },
        "language_info": {
            "codemirror_mode": {
                "name": "ipython",
                "version": 3
            },
            "file_extension": ".py",
            "mimetype": "text/x-python",
            "name": "python",
            "nbconvert_exporter": "python",
            "pygments_lexer": "ipython3",
            "version": "3.10.7"
        }
    },
    "nbformat": 4,
    "nbformat_minor": 4
}
